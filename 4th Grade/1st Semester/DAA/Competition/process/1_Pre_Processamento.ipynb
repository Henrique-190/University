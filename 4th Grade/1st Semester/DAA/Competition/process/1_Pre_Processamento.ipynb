{
 "cells": [
  {
   "cell_type": "markdown",
   "metadata": {},
   "source": [
    "# IMPORTS"
   ]
  },
  {
   "cell_type": "code",
   "execution_count": 135,
   "metadata": {},
   "outputs": [],
   "source": [
    "import re\n",
    "from collections import Counter\n",
    "import sklearn as skl\n",
    "import pandas as pd\n",
    "import numpy as np\n",
    "import matplotlib.pyplot as plt\n",
    "%matplotlib inline\n",
    "import seaborn as sns\n",
    "from sklearn import preprocessing\n",
    "from sklearn.model_selection import cross_val_score\n",
    "from sklearn.model_selection import train_test_split\n",
    "from sklearn import metrics\n",
    "from sklearn.svm import SVC\n",
    "from sklearn.metrics import classification_report,plot_confusion_matrix, accuracy_score\n",
    "from lightgbm import LGBMClassifier\n",
    "from sklearn.tree import DecisionTreeClassifier\n",
    "from sklearn.ensemble import RandomForestClassifier\n",
    "from sklearn.ensemble import GradientBoostingClassifier\n",
    "from sklearn.ensemble import ExtraTreesClassifier\n",
    "from sklearn.neighbors import KNeighborsClassifier\n",
    "from catboost import CatBoostClassifier\n",
    "from pycaret.classification import *"
   ]
  },
  {
   "cell_type": "markdown",
   "metadata": {},
   "source": [
    "# LEITURA"
   ]
  },
  {
   "cell_type": "code",
   "execution_count": 136,
   "metadata": {},
   "outputs": [],
   "source": [
    "incidentes = pd.read_csv('../input/training_data.csv')\n",
    "teste = pd.read_csv('../input/test_data.csv')"
   ]
  },
  {
   "cell_type": "markdown",
   "metadata": {},
   "source": [
    "# TRATAMENTO"
   ]
  },
  {
   "attachments": {},
   "cell_type": "markdown",
   "metadata": {},
   "source": [
    "## Remoção de Colunas desnecessárias\n",
    "* Cidade é sempre a mesma.\n",
    "* Valor médio da chuva também é sempre a mesmo."
   ]
  },
  {
   "cell_type": "code",
   "execution_count": 137,
   "metadata": {},
   "outputs": [],
   "source": [
    "incidentes=incidentes.drop(['city_name'],axis=1)\n",
    "incidentes=incidentes.drop(['avg_precipitation'],axis=1)\n",
    "teste=teste.drop(['city_name'],axis=1)\n",
    "teste=teste.drop(['avg_precipitation'],axis=1)"
   ]
  },
  {
   "attachments": {},
   "cell_type": "markdown",
   "metadata": {},
   "source": [
    "## Transformação de Colunas Categóricas para Numéricas Discretas"
   ]
  },
  {
   "cell_type": "code",
   "execution_count": 138,
   "metadata": {},
   "outputs": [],
   "source": [
    "incidentes[\"avg_rain\"] = incidentes['avg_rain'].replace({'Sem Chuva' : 0, 'chuva fraca' : 1, 'chuva moderada' : 2, 'chuva forte' : 3}).astype(int)\n",
    "incidentes[\"magnitude_of_delay\"] = incidentes['magnitude_of_delay'].replace({'UNDEFINED' : 0, 'MODERATE' : 1, 'MAJOR' : 2}).astype(int)\n",
    "incidentes['luminosity'] = incidentes['luminosity'].replace(['DARK','LOW_LIGHT','LIGHT'],[0,1,2]).astype(int)\n",
    "incidentes[\"incidents\"] = incidentes['incidents'].replace({'None' : 0, 'Low' : 1, 'Medium' : 2, 'High' : 3, 'Very_High' : 4}).astype(int)\n",
    "\n",
    "teste[\"avg_rain\"] = teste['avg_rain'].replace({'Sem Chuva' : 0, 'chuva fraca' : 1, 'chuva moderada' : 2, 'chuva forte' : 3}).astype(int)\n",
    "teste[\"magnitude_of_delay\"] = teste['magnitude_of_delay'].replace({'UNDEFINED' : 0, 'MODERATE' : 1, 'MAJOR' : 2}).astype(int)\n",
    "teste['luminosity'] = teste['luminosity'].replace(['DARK','LOW_LIGHT','LIGHT'],[0,1,2]).astype(int)"
   ]
  },
  {
   "attachments": {},
   "cell_type": "markdown",
   "metadata": {},
   "source": [
    "## Missing Values"
   ]
  },
  {
   "cell_type": "code",
   "execution_count": 139,
   "metadata": {},
   "outputs": [
    {
     "name": "stdout",
     "output_type": "stream",
     "text": [
      "magnitude_of_delay     0\n",
      "delay_in_seconds       0\n",
      "affected_roads        85\n",
      "record_date            0\n",
      "luminosity             0\n",
      "avg_temperature        0\n",
      "avg_atm_pressure       0\n",
      "avg_humidity           0\n",
      "avg_wind_speed         0\n",
      "avg_rain               0\n",
      "incidents              0\n",
      "dtype: int64\n"
     ]
    }
   ],
   "source": [
    "print(incidentes.isnull().sum())"
   ]
  },
  {
   "cell_type": "code",
   "execution_count": 140,
   "metadata": {},
   "outputs": [
    {
     "data": {
      "text/plain": [
       "0                                                       ,\n",
       "1                                                   N101,\n",
       "2                                                       ,\n",
       "3       N101,R206,N105,N101,N101,N101,N101,N101,N101,N...\n",
       "4                               N101,N101,N101,N101,N101,\n",
       "                              ...                        \n",
       "4995                            N101,N101,N101,N101,N101,\n",
       "4996                             N101,N101,N101,N101,N101\n",
       "4997                                                    ,\n",
       "4998                             N101,N101,N101,N101,N101\n",
       "4999                             N101,N101,N101,N101,N101\n",
       "Name: affected_roads, Length: 5000, dtype: object"
      ]
     },
     "execution_count": 140,
     "metadata": {},
     "output_type": "execute_result"
    }
   ],
   "source": [
    "# só a coluna de estradas afetadas têm missing values. Observemos o seu conteúdo\n",
    "incidentes[\"affected_roads\"]"
   ]
  },
  {
   "cell_type": "code",
   "execution_count": 141,
   "metadata": {},
   "outputs": [
    {
     "name": "stdout",
     "output_type": "stream",
     "text": [
      "Starting...\n",
      "Done.\n"
     ]
    }
   ],
   "source": [
    "## MÉTODO 1\n",
    "# Se for ',' vamos remover, é bem provável que tenha sido um erro (=0)\n",
    "# Para as restantes, vamos colocar as estradas diferentes afetadas\n",
    "entries = []\n",
    "print(\"Starting...\")\n",
    "for row in incidentes['affected_roads']:\n",
    "    if row == ',':\n",
    "        # Substituir por '0'\n",
    "        entry = 0\n",
    "    else:\n",
    "        words = str(row).split(',') # array com as estradas\n",
    "        words_no_empty = list(filter(lambda x: x != '', words))\n",
    "        values, counts = np.unique(words_no_empty, return_counts=True) # lista de valores únicos\n",
    "        entry = values.size\n",
    "    entries.append(entry)\n",
    "incidentes['affected_roads_number'] = entries\n",
    "entries = []\n",
    "for row in teste['affected_roads']:\n",
    "    if row == ',':\n",
    "        # Substituir por '0'\n",
    "        entry = 0\n",
    "    else:\n",
    "        words = str(row).split(',') # array com as estradas\n",
    "        words_no_empty = list(filter(lambda x: x != '', words))\n",
    "        values, counts = np.unique(words_no_empty, return_counts=True) # lista de valores únicos\n",
    "        entry = values.size\n",
    "    entries.append(entry)\n",
    "teste['affected_roads_number'] = entries\n",
    "print(\"Done.\")"
   ]
  },
  {
   "cell_type": "code",
   "execution_count": 142,
   "metadata": {},
   "outputs": [],
   "source": [
    "# remover a coluna tratada\n",
    "incidentes=incidentes.drop(['affected_roads'],axis=1)\n",
    "teste=teste.drop(['affected_roads'],axis=1)"
   ]
  },
  {
   "cell_type": "code",
   "execution_count": 143,
   "metadata": {},
   "outputs": [
    {
     "data": {
      "text/plain": [
       "(5000, 11)"
      ]
     },
     "execution_count": 143,
     "metadata": {},
     "output_type": "execute_result"
    }
   ],
   "source": [
    "incidentes.shape"
   ]
  },
  {
   "cell_type": "code",
   "execution_count": 144,
   "metadata": {},
   "outputs": [
    {
     "name": "stdout",
     "output_type": "stream",
     "text": [
      "magnitude_of_delay       0\n",
      "delay_in_seconds         0\n",
      "record_date              0\n",
      "luminosity               0\n",
      "avg_temperature          0\n",
      "avg_atm_pressure         0\n",
      "avg_humidity             0\n",
      "avg_wind_speed           0\n",
      "avg_rain                 0\n",
      "incidents                0\n",
      "affected_roads_number    0\n",
      "dtype: int64\n"
     ]
    }
   ],
   "source": [
    "# verificar inexistência de missing values\n",
    "print(incidentes.isnull().sum())"
   ]
  },
  {
   "cell_type": "code",
   "execution_count": 145,
   "metadata": {},
   "outputs": [
    {
     "data": {
      "text/html": [
       "<div>\n",
       "<style scoped>\n",
       "    .dataframe tbody tr th:only-of-type {\n",
       "        vertical-align: middle;\n",
       "    }\n",
       "\n",
       "    .dataframe tbody tr th {\n",
       "        vertical-align: top;\n",
       "    }\n",
       "\n",
       "    .dataframe thead th {\n",
       "        text-align: right;\n",
       "    }\n",
       "</style>\n",
       "<table border=\"1\" class=\"dataframe\">\n",
       "  <thead>\n",
       "    <tr style=\"text-align: right;\">\n",
       "      <th></th>\n",
       "      <th>magnitude_of_delay</th>\n",
       "      <th>delay_in_seconds</th>\n",
       "      <th>record_date</th>\n",
       "      <th>luminosity</th>\n",
       "      <th>avg_temperature</th>\n",
       "      <th>avg_atm_pressure</th>\n",
       "      <th>avg_humidity</th>\n",
       "      <th>avg_wind_speed</th>\n",
       "      <th>avg_rain</th>\n",
       "      <th>incidents</th>\n",
       "      <th>affected_roads_number</th>\n",
       "    </tr>\n",
       "  </thead>\n",
       "  <tbody>\n",
       "    <tr>\n",
       "      <th>0</th>\n",
       "      <td>0</td>\n",
       "      <td>0</td>\n",
       "      <td>2021-03-15 23:00:00</td>\n",
       "      <td>0</td>\n",
       "      <td>12.0</td>\n",
       "      <td>1013.0</td>\n",
       "      <td>70.0</td>\n",
       "      <td>1.0</td>\n",
       "      <td>0</td>\n",
       "      <td>0</td>\n",
       "      <td>0</td>\n",
       "    </tr>\n",
       "    <tr>\n",
       "      <th>1</th>\n",
       "      <td>0</td>\n",
       "      <td>385</td>\n",
       "      <td>2021-12-25 18:00:00</td>\n",
       "      <td>0</td>\n",
       "      <td>12.0</td>\n",
       "      <td>1007.0</td>\n",
       "      <td>91.0</td>\n",
       "      <td>1.0</td>\n",
       "      <td>0</td>\n",
       "      <td>0</td>\n",
       "      <td>1</td>\n",
       "    </tr>\n",
       "    <tr>\n",
       "      <th>2</th>\n",
       "      <td>0</td>\n",
       "      <td>69</td>\n",
       "      <td>2021-03-12 15:00:00</td>\n",
       "      <td>2</td>\n",
       "      <td>14.0</td>\n",
       "      <td>1025.0</td>\n",
       "      <td>64.0</td>\n",
       "      <td>0.0</td>\n",
       "      <td>0</td>\n",
       "      <td>1</td>\n",
       "      <td>0</td>\n",
       "    </tr>\n",
       "    <tr>\n",
       "      <th>3</th>\n",
       "      <td>2</td>\n",
       "      <td>2297</td>\n",
       "      <td>2021-09-29 09:00:00</td>\n",
       "      <td>2</td>\n",
       "      <td>15.0</td>\n",
       "      <td>1028.0</td>\n",
       "      <td>75.0</td>\n",
       "      <td>1.0</td>\n",
       "      <td>0</td>\n",
       "      <td>4</td>\n",
       "      <td>3</td>\n",
       "    </tr>\n",
       "    <tr>\n",
       "      <th>4</th>\n",
       "      <td>0</td>\n",
       "      <td>0</td>\n",
       "      <td>2021-06-13 11:00:00</td>\n",
       "      <td>2</td>\n",
       "      <td>27.0</td>\n",
       "      <td>1020.0</td>\n",
       "      <td>52.0</td>\n",
       "      <td>1.0</td>\n",
       "      <td>0</td>\n",
       "      <td>3</td>\n",
       "      <td>1</td>\n",
       "    </tr>\n",
       "  </tbody>\n",
       "</table>\n",
       "</div>"
      ],
      "text/plain": [
       "   magnitude_of_delay  delay_in_seconds         record_date  luminosity  \\\n",
       "0                   0                 0 2021-03-15 23:00:00           0   \n",
       "1                   0               385 2021-12-25 18:00:00           0   \n",
       "2                   0                69 2021-03-12 15:00:00           2   \n",
       "3                   2              2297 2021-09-29 09:00:00           2   \n",
       "4                   0                 0 2021-06-13 11:00:00           2   \n",
       "\n",
       "   avg_temperature  avg_atm_pressure  avg_humidity  avg_wind_speed  avg_rain  \\\n",
       "0             12.0            1013.0          70.0             1.0         0   \n",
       "1             12.0            1007.0          91.0             1.0         0   \n",
       "2             14.0            1025.0          64.0             0.0         0   \n",
       "3             15.0            1028.0          75.0             1.0         0   \n",
       "4             27.0            1020.0          52.0             1.0         0   \n",
       "\n",
       "   incidents  affected_roads_number  \n",
       "0          0                      0  \n",
       "1          0                      1  \n",
       "2          1                      0  \n",
       "3          4                      3  \n",
       "4          3                      1  "
      ]
     },
     "execution_count": 145,
     "metadata": {},
     "output_type": "execute_result"
    }
   ],
   "source": [
    "# verificar existência da nova coluna \"treat_affected_roads_number\"\n",
    "incidentes.head()"
   ]
  },
  {
   "attachments": {},
   "cell_type": "markdown",
   "metadata": {},
   "source": [
    "## Feature Engeneering - Datas"
   ]
  },
  {
   "cell_type": "code",
   "execution_count": 146,
   "metadata": {},
   "outputs": [],
   "source": [
    "# tratar o record_time\n",
    "# treino\n",
    "incidentes['record_date'] = pd.to_datetime(incidentes['record_date'])\n",
    "incidentes['day_of_month'] = incidentes['record_date'].dt.day\n",
    "incidentes['week_day'] = incidentes['record_date'].dt.weekday\n",
    "incidentes['month'] = incidentes['record_date'].dt.month\n",
    "incidentes['year'] = incidentes['record_date'].dt.year\n",
    "incidentes['hour'] = incidentes['record_date'].dt.hour\n",
    "incidentes['minute'] = incidentes['record_date'].dt.minute\n",
    "incidentes['day_of_year'] = incidentes['record_date'].dt.dayofyear\n",
    "# podemos remover a coluna\n",
    "incidentes.drop('record_date', axis=1, inplace=True)\n",
    "\n",
    "# teste\n",
    "teste['record_date'] = pd.to_datetime(teste['record_date'])\n",
    "teste['day_of_month'] = teste['record_date'].dt.day\n",
    "teste['week_day'] = teste['record_date'].dt.weekday\n",
    "teste['month'] = teste['record_date'].dt.month\n",
    "teste['year'] = teste['record_date'].dt.year\n",
    "teste['hour'] = teste['record_date'].dt.hour\n",
    "teste['minute'] = teste['record_date'].dt.minute\n",
    "teste['day_of_year'] = teste['record_date'].dt.dayofyear\n",
    "# podemos remover a coluna\n",
    "teste.drop('record_date', axis=1, inplace=True)\n"
   ]
  },
  {
   "cell_type": "code",
   "execution_count": 147,
   "metadata": {},
   "outputs": [
    {
     "name": "stdout",
     "output_type": "stream",
     "text": [
      "0    5000\n",
      "Name: minute, dtype: int64\n",
      "2021    5000\n",
      "Name: year, dtype: int64\n"
     ]
    }
   ],
   "source": [
    "# verificamos que as colunas minutes e year são sempre igual, podemos remover.\n",
    "print(incidentes[\"minute\"].value_counts()) # é sempre 0, remover\n",
    "print(incidentes[\"year\"].value_counts()) # é sempre 2021, remover"
   ]
  },
  {
   "cell_type": "code",
   "execution_count": 148,
   "metadata": {},
   "outputs": [],
   "source": [
    "# remover essa coluna\n",
    "incidentes.drop('minute', axis=1, inplace=True)\n",
    "incidentes.drop('year', axis=1, inplace=True)\n",
    "teste.drop('minute', axis=1, inplace=True)\n",
    "teste.drop('year', axis=1, inplace=True)"
   ]
  },
  {
   "cell_type": "code",
   "execution_count": 149,
   "metadata": {},
   "outputs": [
    {
     "data": {
      "text/html": [
       "<div>\n",
       "<style scoped>\n",
       "    .dataframe tbody tr th:only-of-type {\n",
       "        vertical-align: middle;\n",
       "    }\n",
       "\n",
       "    .dataframe tbody tr th {\n",
       "        vertical-align: top;\n",
       "    }\n",
       "\n",
       "    .dataframe thead th {\n",
       "        text-align: right;\n",
       "    }\n",
       "</style>\n",
       "<table border=\"1\" class=\"dataframe\">\n",
       "  <thead>\n",
       "    <tr style=\"text-align: right;\">\n",
       "      <th></th>\n",
       "      <th>magnitude_of_delay</th>\n",
       "      <th>delay_in_seconds</th>\n",
       "      <th>luminosity</th>\n",
       "      <th>avg_temperature</th>\n",
       "      <th>avg_atm_pressure</th>\n",
       "      <th>avg_humidity</th>\n",
       "      <th>avg_wind_speed</th>\n",
       "      <th>avg_rain</th>\n",
       "      <th>incidents</th>\n",
       "      <th>affected_roads_number</th>\n",
       "      <th>day_of_month</th>\n",
       "      <th>week_day</th>\n",
       "      <th>month</th>\n",
       "      <th>hour</th>\n",
       "      <th>day_of_year</th>\n",
       "    </tr>\n",
       "  </thead>\n",
       "  <tbody>\n",
       "    <tr>\n",
       "      <th>0</th>\n",
       "      <td>0</td>\n",
       "      <td>0</td>\n",
       "      <td>0</td>\n",
       "      <td>12.0</td>\n",
       "      <td>1013.0</td>\n",
       "      <td>70.0</td>\n",
       "      <td>1.0</td>\n",
       "      <td>0</td>\n",
       "      <td>0</td>\n",
       "      <td>0</td>\n",
       "      <td>15</td>\n",
       "      <td>0</td>\n",
       "      <td>3</td>\n",
       "      <td>23</td>\n",
       "      <td>74</td>\n",
       "    </tr>\n",
       "    <tr>\n",
       "      <th>1</th>\n",
       "      <td>0</td>\n",
       "      <td>385</td>\n",
       "      <td>0</td>\n",
       "      <td>12.0</td>\n",
       "      <td>1007.0</td>\n",
       "      <td>91.0</td>\n",
       "      <td>1.0</td>\n",
       "      <td>0</td>\n",
       "      <td>0</td>\n",
       "      <td>1</td>\n",
       "      <td>25</td>\n",
       "      <td>5</td>\n",
       "      <td>12</td>\n",
       "      <td>18</td>\n",
       "      <td>359</td>\n",
       "    </tr>\n",
       "    <tr>\n",
       "      <th>2</th>\n",
       "      <td>0</td>\n",
       "      <td>69</td>\n",
       "      <td>2</td>\n",
       "      <td>14.0</td>\n",
       "      <td>1025.0</td>\n",
       "      <td>64.0</td>\n",
       "      <td>0.0</td>\n",
       "      <td>0</td>\n",
       "      <td>1</td>\n",
       "      <td>0</td>\n",
       "      <td>12</td>\n",
       "      <td>4</td>\n",
       "      <td>3</td>\n",
       "      <td>15</td>\n",
       "      <td>71</td>\n",
       "    </tr>\n",
       "    <tr>\n",
       "      <th>3</th>\n",
       "      <td>2</td>\n",
       "      <td>2297</td>\n",
       "      <td>2</td>\n",
       "      <td>15.0</td>\n",
       "      <td>1028.0</td>\n",
       "      <td>75.0</td>\n",
       "      <td>1.0</td>\n",
       "      <td>0</td>\n",
       "      <td>4</td>\n",
       "      <td>3</td>\n",
       "      <td>29</td>\n",
       "      <td>2</td>\n",
       "      <td>9</td>\n",
       "      <td>9</td>\n",
       "      <td>272</td>\n",
       "    </tr>\n",
       "    <tr>\n",
       "      <th>4</th>\n",
       "      <td>0</td>\n",
       "      <td>0</td>\n",
       "      <td>2</td>\n",
       "      <td>27.0</td>\n",
       "      <td>1020.0</td>\n",
       "      <td>52.0</td>\n",
       "      <td>1.0</td>\n",
       "      <td>0</td>\n",
       "      <td>3</td>\n",
       "      <td>1</td>\n",
       "      <td>13</td>\n",
       "      <td>6</td>\n",
       "      <td>6</td>\n",
       "      <td>11</td>\n",
       "      <td>164</td>\n",
       "    </tr>\n",
       "  </tbody>\n",
       "</table>\n",
       "</div>"
      ],
      "text/plain": [
       "   magnitude_of_delay  delay_in_seconds  luminosity  avg_temperature  \\\n",
       "0                   0                 0           0             12.0   \n",
       "1                   0               385           0             12.0   \n",
       "2                   0                69           2             14.0   \n",
       "3                   2              2297           2             15.0   \n",
       "4                   0                 0           2             27.0   \n",
       "\n",
       "   avg_atm_pressure  avg_humidity  avg_wind_speed  avg_rain  incidents  \\\n",
       "0            1013.0          70.0             1.0         0          0   \n",
       "1            1007.0          91.0             1.0         0          0   \n",
       "2            1025.0          64.0             0.0         0          1   \n",
       "3            1028.0          75.0             1.0         0          4   \n",
       "4            1020.0          52.0             1.0         0          3   \n",
       "\n",
       "   affected_roads_number  day_of_month  week_day  month  hour  day_of_year  \n",
       "0                      0            15         0      3    23           74  \n",
       "1                      1            25         5     12    18          359  \n",
       "2                      0            12         4      3    15           71  \n",
       "3                      3            29         2      9     9          272  \n",
       "4                      1            13         6      6    11          164  "
      ]
     },
     "execution_count": 149,
     "metadata": {},
     "output_type": "execute_result"
    }
   ],
   "source": [
    "incidentes.head()"
   ]
  },
  {
   "attachments": {},
   "cell_type": "markdown",
   "metadata": {},
   "source": [
    "## Modelos"
   ]
  },
  {
   "attachments": {},
   "cell_type": "markdown",
   "metadata": {},
   "source": [
    "Para termos uma noção de que tipos de modelos podemos seguir, podemos socorrer-nos de ferramentas de autoML, como o PyCaret."
   ]
  },
  {
   "cell_type": "code",
   "execution_count": 150,
   "metadata": {},
   "outputs": [],
   "source": [
    "#divisão do target\n",
    "x = incidentes.drop(['incidents'], axis=1)\n",
    "y = incidentes['incidents']"
   ]
  },
  {
   "cell_type": "code",
   "execution_count": 151,
   "metadata": {},
   "outputs": [
    {
     "data": {
      "text/html": [
       "<style type=\"text/css\">\n",
       "#T_fb03e_row8_col1 {\n",
       "  background-color: lightgreen;\n",
       "}\n",
       "</style>\n",
       "<table id=\"T_fb03e\">\n",
       "  <thead>\n",
       "    <tr>\n",
       "      <th class=\"blank level0\" >&nbsp;</th>\n",
       "      <th id=\"T_fb03e_level0_col0\" class=\"col_heading level0 col0\" >Description</th>\n",
       "      <th id=\"T_fb03e_level0_col1\" class=\"col_heading level0 col1\" >Value</th>\n",
       "    </tr>\n",
       "  </thead>\n",
       "  <tbody>\n",
       "    <tr>\n",
       "      <th id=\"T_fb03e_level0_row0\" class=\"row_heading level0 row0\" >0</th>\n",
       "      <td id=\"T_fb03e_row0_col0\" class=\"data row0 col0\" >Session id</td>\n",
       "      <td id=\"T_fb03e_row0_col1\" class=\"data row0 col1\" >8135</td>\n",
       "    </tr>\n",
       "    <tr>\n",
       "      <th id=\"T_fb03e_level0_row1\" class=\"row_heading level0 row1\" >1</th>\n",
       "      <td id=\"T_fb03e_row1_col0\" class=\"data row1 col0\" >Target</td>\n",
       "      <td id=\"T_fb03e_row1_col1\" class=\"data row1 col1\" >incidents</td>\n",
       "    </tr>\n",
       "    <tr>\n",
       "      <th id=\"T_fb03e_level0_row2\" class=\"row_heading level0 row2\" >2</th>\n",
       "      <td id=\"T_fb03e_row2_col0\" class=\"data row2 col0\" >Target type</td>\n",
       "      <td id=\"T_fb03e_row2_col1\" class=\"data row2 col1\" >Multiclass</td>\n",
       "    </tr>\n",
       "    <tr>\n",
       "      <th id=\"T_fb03e_level0_row3\" class=\"row_heading level0 row3\" >3</th>\n",
       "      <td id=\"T_fb03e_row3_col0\" class=\"data row3 col0\" >Original data shape</td>\n",
       "      <td id=\"T_fb03e_row3_col1\" class=\"data row3 col1\" >(5000, 15)</td>\n",
       "    </tr>\n",
       "    <tr>\n",
       "      <th id=\"T_fb03e_level0_row4\" class=\"row_heading level0 row4\" >4</th>\n",
       "      <td id=\"T_fb03e_row4_col0\" class=\"data row4 col0\" >Transformed data shape</td>\n",
       "      <td id=\"T_fb03e_row4_col1\" class=\"data row4 col1\" >(5000, 15)</td>\n",
       "    </tr>\n",
       "    <tr>\n",
       "      <th id=\"T_fb03e_level0_row5\" class=\"row_heading level0 row5\" >5</th>\n",
       "      <td id=\"T_fb03e_row5_col0\" class=\"data row5 col0\" >Transformed train set shape</td>\n",
       "      <td id=\"T_fb03e_row5_col1\" class=\"data row5 col1\" >(3499, 15)</td>\n",
       "    </tr>\n",
       "    <tr>\n",
       "      <th id=\"T_fb03e_level0_row6\" class=\"row_heading level0 row6\" >6</th>\n",
       "      <td id=\"T_fb03e_row6_col0\" class=\"data row6 col0\" >Transformed test set shape</td>\n",
       "      <td id=\"T_fb03e_row6_col1\" class=\"data row6 col1\" >(1501, 15)</td>\n",
       "    </tr>\n",
       "    <tr>\n",
       "      <th id=\"T_fb03e_level0_row7\" class=\"row_heading level0 row7\" >7</th>\n",
       "      <td id=\"T_fb03e_row7_col0\" class=\"data row7 col0\" >Numeric features</td>\n",
       "      <td id=\"T_fb03e_row7_col1\" class=\"data row7 col1\" >14</td>\n",
       "    </tr>\n",
       "    <tr>\n",
       "      <th id=\"T_fb03e_level0_row8\" class=\"row_heading level0 row8\" >8</th>\n",
       "      <td id=\"T_fb03e_row8_col0\" class=\"data row8 col0\" >Preprocess</td>\n",
       "      <td id=\"T_fb03e_row8_col1\" class=\"data row8 col1\" >True</td>\n",
       "    </tr>\n",
       "    <tr>\n",
       "      <th id=\"T_fb03e_level0_row9\" class=\"row_heading level0 row9\" >9</th>\n",
       "      <td id=\"T_fb03e_row9_col0\" class=\"data row9 col0\" >Imputation type</td>\n",
       "      <td id=\"T_fb03e_row9_col1\" class=\"data row9 col1\" >simple</td>\n",
       "    </tr>\n",
       "    <tr>\n",
       "      <th id=\"T_fb03e_level0_row10\" class=\"row_heading level0 row10\" >10</th>\n",
       "      <td id=\"T_fb03e_row10_col0\" class=\"data row10 col0\" >Numeric imputation</td>\n",
       "      <td id=\"T_fb03e_row10_col1\" class=\"data row10 col1\" >mean</td>\n",
       "    </tr>\n",
       "    <tr>\n",
       "      <th id=\"T_fb03e_level0_row11\" class=\"row_heading level0 row11\" >11</th>\n",
       "      <td id=\"T_fb03e_row11_col0\" class=\"data row11 col0\" >Categorical imputation</td>\n",
       "      <td id=\"T_fb03e_row11_col1\" class=\"data row11 col1\" >constant</td>\n",
       "    </tr>\n",
       "    <tr>\n",
       "      <th id=\"T_fb03e_level0_row12\" class=\"row_heading level0 row12\" >12</th>\n",
       "      <td id=\"T_fb03e_row12_col0\" class=\"data row12 col0\" >Low variance threshold</td>\n",
       "      <td id=\"T_fb03e_row12_col1\" class=\"data row12 col1\" >0</td>\n",
       "    </tr>\n",
       "    <tr>\n",
       "      <th id=\"T_fb03e_level0_row13\" class=\"row_heading level0 row13\" >13</th>\n",
       "      <td id=\"T_fb03e_row13_col0\" class=\"data row13 col0\" >Fold Generator</td>\n",
       "      <td id=\"T_fb03e_row13_col1\" class=\"data row13 col1\" >StratifiedKFold</td>\n",
       "    </tr>\n",
       "    <tr>\n",
       "      <th id=\"T_fb03e_level0_row14\" class=\"row_heading level0 row14\" >14</th>\n",
       "      <td id=\"T_fb03e_row14_col0\" class=\"data row14 col0\" >Fold Number</td>\n",
       "      <td id=\"T_fb03e_row14_col1\" class=\"data row14 col1\" >10</td>\n",
       "    </tr>\n",
       "    <tr>\n",
       "      <th id=\"T_fb03e_level0_row15\" class=\"row_heading level0 row15\" >15</th>\n",
       "      <td id=\"T_fb03e_row15_col0\" class=\"data row15 col0\" >CPU Jobs</td>\n",
       "      <td id=\"T_fb03e_row15_col1\" class=\"data row15 col1\" >-1</td>\n",
       "    </tr>\n",
       "    <tr>\n",
       "      <th id=\"T_fb03e_level0_row16\" class=\"row_heading level0 row16\" >16</th>\n",
       "      <td id=\"T_fb03e_row16_col0\" class=\"data row16 col0\" >Use GPU</td>\n",
       "      <td id=\"T_fb03e_row16_col1\" class=\"data row16 col1\" >False</td>\n",
       "    </tr>\n",
       "    <tr>\n",
       "      <th id=\"T_fb03e_level0_row17\" class=\"row_heading level0 row17\" >17</th>\n",
       "      <td id=\"T_fb03e_row17_col0\" class=\"data row17 col0\" >Log Experiment</td>\n",
       "      <td id=\"T_fb03e_row17_col1\" class=\"data row17 col1\" >False</td>\n",
       "    </tr>\n",
       "    <tr>\n",
       "      <th id=\"T_fb03e_level0_row18\" class=\"row_heading level0 row18\" >18</th>\n",
       "      <td id=\"T_fb03e_row18_col0\" class=\"data row18 col0\" >Experiment Name</td>\n",
       "      <td id=\"T_fb03e_row18_col1\" class=\"data row18 col1\" >clf-default-name</td>\n",
       "    </tr>\n",
       "    <tr>\n",
       "      <th id=\"T_fb03e_level0_row19\" class=\"row_heading level0 row19\" >19</th>\n",
       "      <td id=\"T_fb03e_row19_col0\" class=\"data row19 col0\" >USI</td>\n",
       "      <td id=\"T_fb03e_row19_col1\" class=\"data row19 col1\" >0606</td>\n",
       "    </tr>\n",
       "  </tbody>\n",
       "</table>\n"
      ],
      "text/plain": [
       "<pandas.io.formats.style.Styler at 0x7fdccd2c5130>"
      ]
     },
     "metadata": {},
     "output_type": "display_data"
    }
   ],
   "source": [
    "experiment = setup(incidentes, target='incidents')"
   ]
  },
  {
   "cell_type": "code",
   "execution_count": 152,
   "metadata": {},
   "outputs": [
    {
     "data": {
      "text/html": [],
      "text/plain": [
       "<IPython.core.display.HTML object>"
      ]
     },
     "metadata": {},
     "output_type": "display_data"
    },
    {
     "data": {
      "text/html": [
       "<style type=\"text/css\">\n",
       "#T_17450 th {\n",
       "  text-align: left;\n",
       "}\n",
       "#T_17450_row0_col0, #T_17450_row1_col0, #T_17450_row1_col1, #T_17450_row1_col2, #T_17450_row1_col3, #T_17450_row1_col4, #T_17450_row1_col5, #T_17450_row1_col6, #T_17450_row1_col7, #T_17450_row2_col0, #T_17450_row2_col1, #T_17450_row2_col2, #T_17450_row2_col3, #T_17450_row2_col4, #T_17450_row2_col5, #T_17450_row2_col6, #T_17450_row2_col7, #T_17450_row3_col0, #T_17450_row3_col1, #T_17450_row3_col2, #T_17450_row3_col3, #T_17450_row3_col4, #T_17450_row3_col5, #T_17450_row3_col6, #T_17450_row3_col7, #T_17450_row4_col0, #T_17450_row4_col1, #T_17450_row4_col2, #T_17450_row4_col3, #T_17450_row4_col4, #T_17450_row4_col5, #T_17450_row4_col6, #T_17450_row4_col7, #T_17450_row5_col0, #T_17450_row5_col1, #T_17450_row5_col2, #T_17450_row5_col3, #T_17450_row5_col4, #T_17450_row5_col5, #T_17450_row5_col6, #T_17450_row5_col7, #T_17450_row6_col0, #T_17450_row6_col1, #T_17450_row6_col2, #T_17450_row6_col3, #T_17450_row6_col4, #T_17450_row6_col5, #T_17450_row6_col6, #T_17450_row6_col7, #T_17450_row7_col0, #T_17450_row7_col1, #T_17450_row7_col2, #T_17450_row7_col3, #T_17450_row7_col4, #T_17450_row7_col5, #T_17450_row7_col6, #T_17450_row7_col7, #T_17450_row8_col0, #T_17450_row8_col1, #T_17450_row8_col2, #T_17450_row8_col3, #T_17450_row8_col4, #T_17450_row8_col5, #T_17450_row8_col6, #T_17450_row8_col7, #T_17450_row9_col0, #T_17450_row9_col1, #T_17450_row9_col2, #T_17450_row9_col3, #T_17450_row9_col4, #T_17450_row9_col5, #T_17450_row9_col6, #T_17450_row9_col7, #T_17450_row10_col0, #T_17450_row10_col1, #T_17450_row10_col2, #T_17450_row10_col3, #T_17450_row10_col4, #T_17450_row10_col5, #T_17450_row10_col6, #T_17450_row10_col7, #T_17450_row11_col0, #T_17450_row11_col1, #T_17450_row11_col2, #T_17450_row11_col3, #T_17450_row11_col4, #T_17450_row11_col5, #T_17450_row11_col6, #T_17450_row11_col7, #T_17450_row12_col0, #T_17450_row12_col1, #T_17450_row12_col2, #T_17450_row12_col3, #T_17450_row12_col4, #T_17450_row12_col5, #T_17450_row12_col6, #T_17450_row12_col7, #T_17450_row13_col0, #T_17450_row13_col1, #T_17450_row13_col2, #T_17450_row13_col3, #T_17450_row13_col4, #T_17450_row13_col5, #T_17450_row13_col6, #T_17450_row13_col7, #T_17450_row14_col0, #T_17450_row14_col1, #T_17450_row14_col2, #T_17450_row14_col3, #T_17450_row14_col4, #T_17450_row14_col5, #T_17450_row14_col6, #T_17450_row14_col7 {\n",
       "  text-align: left;\n",
       "}\n",
       "#T_17450_row0_col1, #T_17450_row0_col2, #T_17450_row0_col3, #T_17450_row0_col4, #T_17450_row0_col5, #T_17450_row0_col6, #T_17450_row0_col7 {\n",
       "  text-align: left;\n",
       "  background-color: yellow;\n",
       "}\n",
       "#T_17450_row0_col8, #T_17450_row1_col8, #T_17450_row2_col8, #T_17450_row3_col8, #T_17450_row4_col8, #T_17450_row5_col8, #T_17450_row6_col8, #T_17450_row7_col8, #T_17450_row8_col8, #T_17450_row9_col8, #T_17450_row11_col8, #T_17450_row12_col8, #T_17450_row13_col8, #T_17450_row14_col8 {\n",
       "  text-align: left;\n",
       "  background-color: lightgrey;\n",
       "}\n",
       "#T_17450_row10_col8 {\n",
       "  text-align: left;\n",
       "  background-color: yellow;\n",
       "  background-color: lightgrey;\n",
       "}\n",
       "</style>\n",
       "<table id=\"T_17450\">\n",
       "  <thead>\n",
       "    <tr>\n",
       "      <th class=\"blank level0\" >&nbsp;</th>\n",
       "      <th id=\"T_17450_level0_col0\" class=\"col_heading level0 col0\" >Model</th>\n",
       "      <th id=\"T_17450_level0_col1\" class=\"col_heading level0 col1\" >Accuracy</th>\n",
       "      <th id=\"T_17450_level0_col2\" class=\"col_heading level0 col2\" >AUC</th>\n",
       "      <th id=\"T_17450_level0_col3\" class=\"col_heading level0 col3\" >Recall</th>\n",
       "      <th id=\"T_17450_level0_col4\" class=\"col_heading level0 col4\" >Prec.</th>\n",
       "      <th id=\"T_17450_level0_col5\" class=\"col_heading level0 col5\" >F1</th>\n",
       "      <th id=\"T_17450_level0_col6\" class=\"col_heading level0 col6\" >Kappa</th>\n",
       "      <th id=\"T_17450_level0_col7\" class=\"col_heading level0 col7\" >MCC</th>\n",
       "      <th id=\"T_17450_level0_col8\" class=\"col_heading level0 col8\" >TT (Sec)</th>\n",
       "    </tr>\n",
       "  </thead>\n",
       "  <tbody>\n",
       "    <tr>\n",
       "      <th id=\"T_17450_level0_row0\" class=\"row_heading level0 row0\" >catboost</th>\n",
       "      <td id=\"T_17450_row0_col0\" class=\"data row0 col0\" >CatBoost Classifier</td>\n",
       "      <td id=\"T_17450_row0_col1\" class=\"data row0 col1\" >0.9248</td>\n",
       "      <td id=\"T_17450_row0_col2\" class=\"data row0 col2\" >0.9927</td>\n",
       "      <td id=\"T_17450_row0_col3\" class=\"data row0 col3\" >0.9248</td>\n",
       "      <td id=\"T_17450_row0_col4\" class=\"data row0 col4\" >0.9262</td>\n",
       "      <td id=\"T_17450_row0_col5\" class=\"data row0 col5\" >0.9247</td>\n",
       "      <td id=\"T_17450_row0_col6\" class=\"data row0 col6\" >0.8985</td>\n",
       "      <td id=\"T_17450_row0_col7\" class=\"data row0 col7\" >0.8988</td>\n",
       "      <td id=\"T_17450_row0_col8\" class=\"data row0 col8\" >7.3880</td>\n",
       "    </tr>\n",
       "    <tr>\n",
       "      <th id=\"T_17450_level0_row1\" class=\"row_heading level0 row1\" >lightgbm</th>\n",
       "      <td id=\"T_17450_row1_col0\" class=\"data row1 col0\" >Light Gradient Boosting Machine</td>\n",
       "      <td id=\"T_17450_row1_col1\" class=\"data row1 col1\" >0.9246</td>\n",
       "      <td id=\"T_17450_row1_col2\" class=\"data row1 col2\" >0.9922</td>\n",
       "      <td id=\"T_17450_row1_col3\" class=\"data row1 col3\" >0.9246</td>\n",
       "      <td id=\"T_17450_row1_col4\" class=\"data row1 col4\" >0.9260</td>\n",
       "      <td id=\"T_17450_row1_col5\" class=\"data row1 col5\" >0.9243</td>\n",
       "      <td id=\"T_17450_row1_col6\" class=\"data row1 col6\" >0.8981</td>\n",
       "      <td id=\"T_17450_row1_col7\" class=\"data row1 col7\" >0.8985</td>\n",
       "      <td id=\"T_17450_row1_col8\" class=\"data row1 col8\" >0.2140</td>\n",
       "    </tr>\n",
       "    <tr>\n",
       "      <th id=\"T_17450_level0_row2\" class=\"row_heading level0 row2\" >rf</th>\n",
       "      <td id=\"T_17450_row2_col0\" class=\"data row2 col0\" >Random Forest Classifier</td>\n",
       "      <td id=\"T_17450_row2_col1\" class=\"data row2 col1\" >0.9225</td>\n",
       "      <td id=\"T_17450_row2_col2\" class=\"data row2 col2\" >0.9921</td>\n",
       "      <td id=\"T_17450_row2_col3\" class=\"data row2 col3\" >0.9225</td>\n",
       "      <td id=\"T_17450_row2_col4\" class=\"data row2 col4\" >0.9240</td>\n",
       "      <td id=\"T_17450_row2_col5\" class=\"data row2 col5\" >0.9223</td>\n",
       "      <td id=\"T_17450_row2_col6\" class=\"data row2 col6\" >0.8954</td>\n",
       "      <td id=\"T_17450_row2_col7\" class=\"data row2 col7\" >0.8958</td>\n",
       "      <td id=\"T_17450_row2_col8\" class=\"data row2 col8\" >0.1160</td>\n",
       "    </tr>\n",
       "    <tr>\n",
       "      <th id=\"T_17450_level0_row3\" class=\"row_heading level0 row3\" >gbc</th>\n",
       "      <td id=\"T_17450_row3_col0\" class=\"data row3 col0\" >Gradient Boosting Classifier</td>\n",
       "      <td id=\"T_17450_row3_col1\" class=\"data row3 col1\" >0.9085</td>\n",
       "      <td id=\"T_17450_row3_col2\" class=\"data row3 col2\" >0.9882</td>\n",
       "      <td id=\"T_17450_row3_col3\" class=\"data row3 col3\" >0.9085</td>\n",
       "      <td id=\"T_17450_row3_col4\" class=\"data row3 col4\" >0.9093</td>\n",
       "      <td id=\"T_17450_row3_col5\" class=\"data row3 col5\" >0.9081</td>\n",
       "      <td id=\"T_17450_row3_col6\" class=\"data row3 col6\" >0.8763</td>\n",
       "      <td id=\"T_17450_row3_col7\" class=\"data row3 col7\" >0.8767</td>\n",
       "      <td id=\"T_17450_row3_col8\" class=\"data row3 col8\" >0.7350</td>\n",
       "    </tr>\n",
       "    <tr>\n",
       "      <th id=\"T_17450_level0_row4\" class=\"row_heading level0 row4\" >dt</th>\n",
       "      <td id=\"T_17450_row4_col0\" class=\"data row4 col0\" >Decision Tree Classifier</td>\n",
       "      <td id=\"T_17450_row4_col1\" class=\"data row4 col1\" >0.9043</td>\n",
       "      <td id=\"T_17450_row4_col2\" class=\"data row4 col2\" >0.9409</td>\n",
       "      <td id=\"T_17450_row4_col3\" class=\"data row4 col3\" >0.9043</td>\n",
       "      <td id=\"T_17450_row4_col4\" class=\"data row4 col4\" >0.9065</td>\n",
       "      <td id=\"T_17450_row4_col5\" class=\"data row4 col5\" >0.9046</td>\n",
       "      <td id=\"T_17450_row4_col6\" class=\"data row4 col6\" >0.8709</td>\n",
       "      <td id=\"T_17450_row4_col7\" class=\"data row4 col7\" >0.8712</td>\n",
       "      <td id=\"T_17450_row4_col8\" class=\"data row4 col8\" >0.0170</td>\n",
       "    </tr>\n",
       "    <tr>\n",
       "      <th id=\"T_17450_level0_row5\" class=\"row_heading level0 row5\" >et</th>\n",
       "      <td id=\"T_17450_row5_col0\" class=\"data row5 col0\" >Extra Trees Classifier</td>\n",
       "      <td id=\"T_17450_row5_col1\" class=\"data row5 col1\" >0.8863</td>\n",
       "      <td id=\"T_17450_row5_col2\" class=\"data row5 col2\" >0.9863</td>\n",
       "      <td id=\"T_17450_row5_col3\" class=\"data row5 col3\" >0.8863</td>\n",
       "      <td id=\"T_17450_row5_col4\" class=\"data row5 col4\" >0.8859</td>\n",
       "      <td id=\"T_17450_row5_col5\" class=\"data row5 col5\" >0.8849</td>\n",
       "      <td id=\"T_17450_row5_col6\" class=\"data row5 col6\" >0.8456</td>\n",
       "      <td id=\"T_17450_row5_col7\" class=\"data row5 col7\" >0.8461</td>\n",
       "      <td id=\"T_17450_row5_col8\" class=\"data row5 col8\" >0.1550</td>\n",
       "    </tr>\n",
       "    <tr>\n",
       "      <th id=\"T_17450_level0_row6\" class=\"row_heading level0 row6\" >knn</th>\n",
       "      <td id=\"T_17450_row6_col0\" class=\"data row6 col0\" >K Neighbors Classifier</td>\n",
       "      <td id=\"T_17450_row6_col1\" class=\"data row6 col1\" >0.8380</td>\n",
       "      <td id=\"T_17450_row6_col2\" class=\"data row6 col2\" >0.9657</td>\n",
       "      <td id=\"T_17450_row6_col3\" class=\"data row6 col3\" >0.8380</td>\n",
       "      <td id=\"T_17450_row6_col4\" class=\"data row6 col4\" >0.8401</td>\n",
       "      <td id=\"T_17450_row6_col5\" class=\"data row6 col5\" >0.8377</td>\n",
       "      <td id=\"T_17450_row6_col6\" class=\"data row6 col6\" >0.7810</td>\n",
       "      <td id=\"T_17450_row6_col7\" class=\"data row6 col7\" >0.7815</td>\n",
       "      <td id=\"T_17450_row6_col8\" class=\"data row6 col8\" >0.0260</td>\n",
       "    </tr>\n",
       "    <tr>\n",
       "      <th id=\"T_17450_level0_row7\" class=\"row_heading level0 row7\" >qda</th>\n",
       "      <td id=\"T_17450_row7_col0\" class=\"data row7 col0\" >Quadratic Discriminant Analysis</td>\n",
       "      <td id=\"T_17450_row7_col1\" class=\"data row7 col1\" >0.6608</td>\n",
       "      <td id=\"T_17450_row7_col2\" class=\"data row7 col2\" >0.9026</td>\n",
       "      <td id=\"T_17450_row7_col3\" class=\"data row7 col3\" >0.6608</td>\n",
       "      <td id=\"T_17450_row7_col4\" class=\"data row7 col4\" >0.6488</td>\n",
       "      <td id=\"T_17450_row7_col5\" class=\"data row7 col5\" >0.6337</td>\n",
       "      <td id=\"T_17450_row7_col6\" class=\"data row7 col6\" >0.5180</td>\n",
       "      <td id=\"T_17450_row7_col7\" class=\"data row7 col7\" >0.5324</td>\n",
       "      <td id=\"T_17450_row7_col8\" class=\"data row7 col8\" >0.0180</td>\n",
       "    </tr>\n",
       "    <tr>\n",
       "      <th id=\"T_17450_level0_row8\" class=\"row_heading level0 row8\" >lda</th>\n",
       "      <td id=\"T_17450_row8_col0\" class=\"data row8 col0\" >Linear Discriminant Analysis</td>\n",
       "      <td id=\"T_17450_row8_col1\" class=\"data row8 col1\" >0.6462</td>\n",
       "      <td id=\"T_17450_row8_col2\" class=\"data row8 col2\" >0.8482</td>\n",
       "      <td id=\"T_17450_row8_col3\" class=\"data row8 col3\" >0.6462</td>\n",
       "      <td id=\"T_17450_row8_col4\" class=\"data row8 col4\" >0.6402</td>\n",
       "      <td id=\"T_17450_row8_col5\" class=\"data row8 col5\" >0.6107</td>\n",
       "      <td id=\"T_17450_row8_col6\" class=\"data row8 col6\" >0.4915</td>\n",
       "      <td id=\"T_17450_row8_col7\" class=\"data row8 col7\" >0.5076</td>\n",
       "      <td id=\"T_17450_row8_col8\" class=\"data row8 col8\" >0.0180</td>\n",
       "    </tr>\n",
       "    <tr>\n",
       "      <th id=\"T_17450_level0_row9\" class=\"row_heading level0 row9\" >lr</th>\n",
       "      <td id=\"T_17450_row9_col0\" class=\"data row9 col0\" >Logistic Regression</td>\n",
       "      <td id=\"T_17450_row9_col1\" class=\"data row9 col1\" >0.6127</td>\n",
       "      <td id=\"T_17450_row9_col2\" class=\"data row9 col2\" >0.8503</td>\n",
       "      <td id=\"T_17450_row9_col3\" class=\"data row9 col3\" >0.6127</td>\n",
       "      <td id=\"T_17450_row9_col4\" class=\"data row9 col4\" >0.5873</td>\n",
       "      <td id=\"T_17450_row9_col5\" class=\"data row9 col5\" >0.5732</td>\n",
       "      <td id=\"T_17450_row9_col6\" class=\"data row9 col6\" >0.4426</td>\n",
       "      <td id=\"T_17450_row9_col7\" class=\"data row9 col7\" >0.4576</td>\n",
       "      <td id=\"T_17450_row9_col8\" class=\"data row9 col8\" >0.6610</td>\n",
       "    </tr>\n",
       "    <tr>\n",
       "      <th id=\"T_17450_level0_row10\" class=\"row_heading level0 row10\" >ridge</th>\n",
       "      <td id=\"T_17450_row10_col0\" class=\"data row10 col0\" >Ridge Classifier</td>\n",
       "      <td id=\"T_17450_row10_col1\" class=\"data row10 col1\" >0.5919</td>\n",
       "      <td id=\"T_17450_row10_col2\" class=\"data row10 col2\" >0.0000</td>\n",
       "      <td id=\"T_17450_row10_col3\" class=\"data row10 col3\" >0.5919</td>\n",
       "      <td id=\"T_17450_row10_col4\" class=\"data row10 col4\" >0.6179</td>\n",
       "      <td id=\"T_17450_row10_col5\" class=\"data row10 col5\" >0.5045</td>\n",
       "      <td id=\"T_17450_row10_col6\" class=\"data row10 col6\" >0.3881</td>\n",
       "      <td id=\"T_17450_row10_col7\" class=\"data row10 col7\" >0.4299</td>\n",
       "      <td id=\"T_17450_row10_col8\" class=\"data row10 col8\" >0.0140</td>\n",
       "    </tr>\n",
       "    <tr>\n",
       "      <th id=\"T_17450_level0_row11\" class=\"row_heading level0 row11\" >ada</th>\n",
       "      <td id=\"T_17450_row11_col0\" class=\"data row11 col0\" >Ada Boost Classifier</td>\n",
       "      <td id=\"T_17450_row11_col1\" class=\"data row11 col1\" >0.5762</td>\n",
       "      <td id=\"T_17450_row11_col2\" class=\"data row11 col2\" >0.8096</td>\n",
       "      <td id=\"T_17450_row11_col3\" class=\"data row11 col3\" >0.5762</td>\n",
       "      <td id=\"T_17450_row11_col4\" class=\"data row11 col4\" >0.5887</td>\n",
       "      <td id=\"T_17450_row11_col5\" class=\"data row11 col5\" >0.5638</td>\n",
       "      <td id=\"T_17450_row11_col6\" class=\"data row11 col6\" >0.4128</td>\n",
       "      <td id=\"T_17450_row11_col7\" class=\"data row11 col7\" >0.4216</td>\n",
       "      <td id=\"T_17450_row11_col8\" class=\"data row11 col8\" >0.0590</td>\n",
       "    </tr>\n",
       "    <tr>\n",
       "      <th id=\"T_17450_level0_row12\" class=\"row_heading level0 row12\" >nb</th>\n",
       "      <td id=\"T_17450_row12_col0\" class=\"data row12 col0\" >Naive Bayes</td>\n",
       "      <td id=\"T_17450_row12_col1\" class=\"data row12 col1\" >0.5399</td>\n",
       "      <td id=\"T_17450_row12_col2\" class=\"data row12 col2\" >0.8146</td>\n",
       "      <td id=\"T_17450_row12_col3\" class=\"data row12 col3\" >0.5399</td>\n",
       "      <td id=\"T_17450_row12_col4\" class=\"data row12 col4\" >0.4809</td>\n",
       "      <td id=\"T_17450_row12_col5\" class=\"data row12 col5\" >0.4711</td>\n",
       "      <td id=\"T_17450_row12_col6\" class=\"data row12 col6\" >0.3223</td>\n",
       "      <td id=\"T_17450_row12_col7\" class=\"data row12 col7\" >0.3525</td>\n",
       "      <td id=\"T_17450_row12_col8\" class=\"data row12 col8\" >0.0170</td>\n",
       "    </tr>\n",
       "    <tr>\n",
       "      <th id=\"T_17450_level0_row13\" class=\"row_heading level0 row13\" >svm</th>\n",
       "      <td id=\"T_17450_row13_col0\" class=\"data row13 col0\" >SVM - Linear Kernel</td>\n",
       "      <td id=\"T_17450_row13_col1\" class=\"data row13 col1\" >0.4395</td>\n",
       "      <td id=\"T_17450_row13_col2\" class=\"data row13 col2\" >0.0000</td>\n",
       "      <td id=\"T_17450_row13_col3\" class=\"data row13 col3\" >0.4395</td>\n",
       "      <td id=\"T_17450_row13_col4\" class=\"data row13 col4\" >0.3934</td>\n",
       "      <td id=\"T_17450_row13_col5\" class=\"data row13 col5\" >0.3662</td>\n",
       "      <td id=\"T_17450_row13_col6\" class=\"data row13 col6\" >0.2361</td>\n",
       "      <td id=\"T_17450_row13_col7\" class=\"data row13 col7\" >0.2839</td>\n",
       "      <td id=\"T_17450_row13_col8\" class=\"data row13 col8\" >0.0260</td>\n",
       "    </tr>\n",
       "    <tr>\n",
       "      <th id=\"T_17450_level0_row14\" class=\"row_heading level0 row14\" >dummy</th>\n",
       "      <td id=\"T_17450_row14_col0\" class=\"data row14 col0\" >Dummy Classifier</td>\n",
       "      <td id=\"T_17450_row14_col1\" class=\"data row14 col1\" >0.4055</td>\n",
       "      <td id=\"T_17450_row14_col2\" class=\"data row14 col2\" >0.5000</td>\n",
       "      <td id=\"T_17450_row14_col3\" class=\"data row14 col3\" >0.4055</td>\n",
       "      <td id=\"T_17450_row14_col4\" class=\"data row14 col4\" >0.1645</td>\n",
       "      <td id=\"T_17450_row14_col5\" class=\"data row14 col5\" >0.2340</td>\n",
       "      <td id=\"T_17450_row14_col6\" class=\"data row14 col6\" >0.0000</td>\n",
       "      <td id=\"T_17450_row14_col7\" class=\"data row14 col7\" >0.0000</td>\n",
       "      <td id=\"T_17450_row14_col8\" class=\"data row14 col8\" >0.0190</td>\n",
       "    </tr>\n",
       "  </tbody>\n",
       "</table>\n"
      ],
      "text/plain": [
       "<pandas.io.formats.style.Styler at 0x7fdd16a114f0>"
      ]
     },
     "metadata": {},
     "output_type": "display_data"
    },
    {
     "data": {
      "text/html": [],
      "text/plain": [
       "<IPython.core.display.HTML object>"
      ]
     },
     "metadata": {},
     "output_type": "display_data"
    }
   ],
   "source": [
    "best = compare_models()"
   ]
  },
  {
   "cell_type": "code",
   "execution_count": 153,
   "metadata": {},
   "outputs": [
    {
     "name": "stdout",
     "output_type": "stream",
     "text": [
      "<catboost.core.CatBoostClassifier object at 0x7fdd16977850>\n"
     ]
    }
   ],
   "source": [
    "print(best)"
   ]
  },
  {
   "attachments": {},
   "cell_type": "markdown",
   "metadata": {},
   "source": [
    "Observações:\n",
    "* Com o tratamento atual, o pycaret diz que os melhores modelos são (Top 6):\n",
    "    * Random Forest Classifier\n",
    "    * Light Gradient Boosting Machine\n",
    "    * Gradient Boosting Classifier\n",
    "    * Decision Tree Classifier\n",
    "    * Extra Trees Classifier\n",
    "    * K Neighbors Classifier\n",
    "* Então, modelos que usam árvores parecem ter melhor performance, é nesses que nos focaremos para já. "
   ]
  },
  {
   "cell_type": "code",
   "execution_count": 154,
   "metadata": {},
   "outputs": [],
   "source": [
    "X_train, X_test, y_train, y_test = train_test_split(x, y, test_size=0.25, random_state=42)"
   ]
  },
  {
   "attachments": {},
   "cell_type": "markdown",
   "metadata": {},
   "source": [
    "Vamos utilizar os parâmetros default, para já."
   ]
  },
  {
   "attachments": {},
   "cell_type": "markdown",
   "metadata": {},
   "source": [
    "## Cenário 0 - Aplicação dos modelos (default) ao dataset tratado\n",
    "* sem missing values, features numéricas, processamento mínimo de datas"
   ]
  },
  {
   "attachments": {},
   "cell_type": "markdown",
   "metadata": {},
   "source": [
    "## Random Forest Classifier"
   ]
  },
  {
   "cell_type": "code",
   "execution_count": 155,
   "metadata": {},
   "outputs": [
    {
     "name": "stdout",
     "output_type": "stream",
     "text": [
      "              precision    recall  f1-score   support\n",
      "\n",
      "           0       0.98      0.98      0.98       517\n",
      "           1       0.84      0.88      0.86       189\n",
      "           2       0.84      0.79      0.81       144\n",
      "           3       0.91      0.88      0.90       265\n",
      "           4       0.89      0.93      0.91       135\n",
      "\n",
      "    accuracy                           0.92      1250\n",
      "   macro avg       0.89      0.89      0.89      1250\n",
      "weighted avg       0.92      0.92      0.92      1250\n",
      "\n",
      "0.9168\n"
     ]
    },
    {
     "data": {
      "image/png": "[encoded data removed]",
      "text/plain": [
       "<Figure size 800x550 with 2 Axes>"
      ]
     },
     "metadata": {},
     "output_type": "display_data"
    }
   ],
   "source": [
    "rf_model = RandomForestClassifier(n_estimators=100, max_features=\"auto\", random_state=42)\n",
    "rf_model.fit(X_train, y_train)\n",
    "rf_pred = rf_model.predict(X_test)\n",
    "print(classification_report(y_test,rf_pred))\n",
    "plot_confusion_matrix(rf_model,X_test,y_test)\n",
    "plt.show\n",
    "print(accuracy_score(y_test, rf_pred))"
   ]
  },
  {
   "attachments": {},
   "cell_type": "markdown",
   "metadata": {},
   "source": [
    "## Light Gradient Boosting Machine"
   ]
  },
  {
   "cell_type": "code",
   "execution_count": 156,
   "metadata": {},
   "outputs": [
    {
     "name": "stdout",
     "output_type": "stream",
     "text": [
      "              precision    recall  f1-score   support\n",
      "\n",
      "           0       0.98      0.98      0.98       517\n",
      "           1       0.84      0.89      0.87       189\n",
      "           2       0.86      0.78      0.82       144\n",
      "           3       0.91      0.89      0.90       265\n",
      "           4       0.90      0.93      0.92       135\n",
      "\n",
      "    accuracy                           0.92      1250\n",
      "   macro avg       0.90      0.90      0.90      1250\n",
      "weighted avg       0.92      0.92      0.92      1250\n",
      "\n",
      "0.9232\n"
     ]
    },
    {
     "data": {
      "image/png": "[encoded data removed]",
      "text/plain": [
       "<Figure size 800x550 with 2 Axes>"
      ]
     },
     "metadata": {},
     "output_type": "display_data"
    }
   ],
   "source": [
    "lgb_model = LGBMClassifier(boosting_type='gbdt', learning_rate=0.1, n_estimators=100, random_state=42)\n",
    "lgb_model.fit(X_train, y_train)\n",
    "lgb_pred = lgb_model.predict(X_test)\n",
    "print(classification_report(y_test,lgb_pred))\n",
    "plot_confusion_matrix(lgb_model,X_test,y_test)\n",
    "plt.show\n",
    "print(accuracy_score(y_test, lgb_pred))"
   ]
  },
  {
   "attachments": {},
   "cell_type": "markdown",
   "metadata": {},
   "source": [
    "## Gradient Boosting Classifier"
   ]
  },
  {
   "cell_type": "code",
   "execution_count": 157,
   "metadata": {},
   "outputs": [
    {
     "name": "stdout",
     "output_type": "stream",
     "text": [
      "              precision    recall  f1-score   support\n",
      "\n",
      "           0       0.97      0.99      0.98       517\n",
      "           1       0.81      0.85      0.83       189\n",
      "           2       0.79      0.72      0.75       144\n",
      "           3       0.90      0.85      0.88       265\n",
      "           4       0.87      0.92      0.89       135\n",
      "\n",
      "    accuracy                           0.90      1250\n",
      "   macro avg       0.87      0.86      0.86      1250\n",
      "weighted avg       0.90      0.90      0.90      1250\n",
      "\n",
      "0.8984\n"
     ]
    },
    {
     "data": {
      "image/png": "[encoded data removed]",
      "text/plain": [
       "<Figure size 800x550 with 2 Axes>"
      ]
     },
     "metadata": {},
     "output_type": "display_data"
    }
   ],
   "source": [
    "\n",
    "gb_model = GradientBoostingClassifier(learning_rate=0.1, n_estimators=100, random_state=42)\n",
    "gb_model.fit(X_train, y_train)\n",
    "gb_pred = gb_model.predict(X_test)\n",
    "print(classification_report(y_test,gb_pred))\n",
    "plot_confusion_matrix(gb_model,X_test,y_test)\n",
    "plt.show\n",
    "print(accuracy_score(y_test, gb_pred))"
   ]
  },
  {
   "attachments": {},
   "cell_type": "markdown",
   "metadata": {},
   "source": [
    "## Decision Tree Classifier"
   ]
  },
  {
   "cell_type": "code",
   "execution_count": 158,
   "metadata": {},
   "outputs": [
    {
     "name": "stdout",
     "output_type": "stream",
     "text": [
      "              precision    recall  f1-score   support\n",
      "\n",
      "           0       0.98      0.99      0.98       517\n",
      "           1       0.86      0.85      0.85       189\n",
      "           2       0.82      0.81      0.81       144\n",
      "           3       0.87      0.88      0.87       265\n",
      "           4       0.87      0.85      0.86       135\n",
      "\n",
      "    accuracy                           0.91      1250\n",
      "   macro avg       0.88      0.87      0.88      1250\n",
      "weighted avg       0.91      0.91      0.91      1250\n",
      "\n",
      "0.908\n"
     ]
    },
    {
     "data": {
      "image/png": "[encoded data removed]",
      "text/plain": [
       "<Figure size 800x550 with 2 Axes>"
      ]
     },
     "metadata": {},
     "output_type": "display_data"
    }
   ],
   "source": [
    "dt_model = DecisionTreeClassifier(criterion='gini', splitter='best', max_depth=20, random_state=42)\n",
    "dt_model.fit(X_train, y_train)\n",
    "dt_pred = dt_model.predict(X_test)\n",
    "print(classification_report(y_test,dt_pred))\n",
    "plot_confusion_matrix(dt_model,X_test,y_test)\n",
    "plt.show\n",
    "print(accuracy_score(y_test, dt_pred))"
   ]
  },
  {
   "attachments": {},
   "cell_type": "markdown",
   "metadata": {},
   "source": [
    "## Extra Trees Classifier"
   ]
  },
  {
   "cell_type": "code",
   "execution_count": 159,
   "metadata": {},
   "outputs": [
    {
     "name": "stdout",
     "output_type": "stream",
     "text": [
      "              precision    recall  f1-score   support\n",
      "\n",
      "           0       0.96      0.98      0.97       517\n",
      "           1       0.80      0.84      0.82       189\n",
      "           2       0.83      0.72      0.77       144\n",
      "           3       0.90      0.86      0.88       265\n",
      "           4       0.83      0.91      0.87       135\n",
      "\n",
      "    accuracy                           0.90      1250\n",
      "   macro avg       0.87      0.86      0.86      1250\n",
      "weighted avg       0.90      0.90      0.90      1250\n",
      "\n",
      "0.8968\n"
     ]
    },
    {
     "data": {
      "image/png": "[encoded data removed]",
      "text/plain": [
       "<Figure size 800x550 with 2 Axes>"
      ]
     },
     "metadata": {},
     "output_type": "display_data"
    }
   ],
   "source": [
    "et_model = ExtraTreesClassifier(criterion='gini', max_depth=20, random_state=42)\n",
    "et_model.fit(X_train, y_train)\n",
    "et_pred = et_model.predict(X_test)\n",
    "print(classification_report(y_test,et_pred))\n",
    "plot_confusion_matrix(et_model,X_test,y_test)\n",
    "plt.show\n",
    "print(accuracy_score(y_test, et_pred))"
   ]
  },
  {
   "attachments": {},
   "cell_type": "markdown",
   "metadata": {},
   "source": [
    "## K Neighbors Classifier"
   ]
  },
  {
   "cell_type": "code",
   "execution_count": 160,
   "metadata": {},
   "outputs": [
    {
     "name": "stdout",
     "output_type": "stream",
     "text": [
      "              precision    recall  f1-score   support\n",
      "\n",
      "           0       0.93      0.96      0.94       517\n",
      "           1       0.74      0.72      0.73       189\n",
      "           2       0.73      0.66      0.69       144\n",
      "           3       0.78      0.77      0.77       265\n",
      "           4       0.78      0.81      0.79       135\n",
      "\n",
      "    accuracy                           0.83      1250\n",
      "   macro avg       0.79      0.78      0.79      1250\n",
      "weighted avg       0.83      0.83      0.83      1250\n",
      "\n",
      "0.8312\n"
     ]
    },
    {
     "data": {
      "image/png": "[encoded data removed]",
      "text/plain": [
       "<Figure size 800x550 with 2 Axes>"
      ]
     },
     "metadata": {},
     "output_type": "display_data"
    }
   ],
   "source": [
    "kn_model = KNeighborsClassifier(n_neighbors=5, weights='uniform', algorithm='auto')\n",
    "kn_model.fit(X_train, y_train)\n",
    "kn_pred = kn_model.predict(X_test)\n",
    "print(classification_report(y_test,kn_pred))\n",
    "plot_confusion_matrix(kn_model,X_test,y_test)\n",
    "plt.show\n",
    "print(accuracy_score(y_test, kn_pred))"
   ]
  },
  {
   "attachments": {},
   "cell_type": "markdown",
   "metadata": {},
   "source": [
    "## CatBoost Classifier"
   ]
  },
  {
   "cell_type": "code",
   "execution_count": 161,
   "metadata": {},
   "outputs": [
    {
     "name": "stdout",
     "output_type": "stream",
     "text": [
      "Learning rate set to 0.5\n",
      "0:\tlearn: 0.8355583\ttotal: 5.81ms\tremaining: 52.3ms\n",
      "1:\tlearn: 0.6371314\ttotal: 10.4ms\tremaining: 41.8ms\n",
      "2:\tlearn: 0.5602731\ttotal: 14.6ms\tremaining: 34ms\n",
      "3:\tlearn: 0.4936908\ttotal: 18.2ms\tremaining: 27.3ms\n",
      "4:\tlearn: 0.4547274\ttotal: 24.4ms\tremaining: 24.4ms\n",
      "5:\tlearn: 0.4281592\ttotal: 29.5ms\tremaining: 19.7ms\n",
      "6:\tlearn: 0.3955953\ttotal: 33.9ms\tremaining: 14.5ms\n",
      "7:\tlearn: 0.3791624\ttotal: 39.1ms\tremaining: 9.77ms\n",
      "8:\tlearn: 0.3703671\ttotal: 44.2ms\tremaining: 4.91ms\n",
      "9:\tlearn: 0.3417826\ttotal: 48.4ms\tremaining: 0us\n",
      "              precision    recall  f1-score   support\n",
      "\n",
      "           0       0.93      0.97      0.95       517\n",
      "           1       0.76      0.79      0.77       189\n",
      "           2       0.82      0.65      0.73       144\n",
      "           3       0.87      0.82      0.85       265\n",
      "           4       0.83      0.92      0.87       135\n",
      "\n",
      "    accuracy                           0.87      1250\n",
      "   macro avg       0.84      0.83      0.83      1250\n",
      "weighted avg       0.87      0.87      0.87      1250\n",
      "\n",
      "0.8712\n"
     ]
    },
    {
     "data": {
      "image/png": "[encoded data removed]",
      "text/plain": [
       "<Figure size 800x550 with 2 Axes>"
      ]
     },
     "metadata": {},
     "output_type": "display_data"
    }
   ],
   "source": [
    "cat_model = CatBoostClassifier(iterations=10)\n",
    "cat_model.fit(X_train, y_train)\n",
    "cat_pred = cat_model.predict(X_test)\n",
    "print(classification_report(y_test,cat_pred))\n",
    "plot_confusion_matrix(cat_model,X_test,y_test)\n",
    "plt.show\n",
    "print(accuracy_score(y_test, cat_pred))"
   ]
  },
  {
   "attachments": {},
   "cell_type": "markdown",
   "metadata": {},
   "source": [
    "* Comparação"
   ]
  },
  {
   "cell_type": "code",
   "execution_count": 162,
   "metadata": {},
   "outputs": [],
   "source": [
    "# função que compara os modelos, para isso, usa um dicionário {\"Model Name: [predictions], ...\"}\n",
    "def compare_models(Y_test, predictions):\n",
    "    # Create a dictionary of models and their respective accuracies\n",
    "    model_accuracies = {}\n",
    "    for name, prediction in predictions.items():\n",
    "        # Calculate the accuracy for each model\n",
    "        accuracy = sum(prediction == Y_test) / len(Y_test)\n",
    "        # Add the model and its accuracy to the dictionary\n",
    "        model_accuracies[name] = accuracy\n",
    "\n",
    "    # Sort the models by their accuracy in ascending order\n",
    "    sorted_models = sorted(model_accuracies, key=model_accuracies.get)\n",
    "\n",
    "    # Print the table with the accuracy of each model\n",
    "    print(\"Model\".ljust(20), \"Accuracy\")\n",
    "    print(\"-\" * 30)\n",
    "    for model in sorted_models:\n",
    "        print(model.ljust(20), str(model_accuracies[model]).rjust(10))"
   ]
  },
  {
   "cell_type": "code",
   "execution_count": 163,
   "metadata": {},
   "outputs": [
    {
     "name": "stdout",
     "output_type": "stream",
     "text": [
      "Model                Accuracy\n",
      "------------------------------\n",
      "K Neighbors Classifier     0.8312\n",
      "Extra Trees Classifier     0.8968\n",
      "Gradient Boosting Classifier     0.8984\n",
      "Decision Tree Classifier      0.908\n",
      "Random Forest Classifier     0.9168\n",
      "Light Gradient Boosting Machine     0.9232\n"
     ]
    }
   ],
   "source": [
    "predictions = {\n",
    "    'Random Forest Classifier' : rf_pred,\n",
    "    'Light Gradient Boosting Machine' : lgb_pred,\n",
    "    'Gradient Boosting Classifier' : gb_pred,\n",
    "    'Decision Tree Classifier' : dt_pred,\n",
    "    'Extra Trees Classifier' : et_pred,\n",
    "    'K Neighbors Classifier' : kn_pred,\n",
    "}\n",
    "\n",
    "compare_models(y_test, predictions)"
   ]
  },
  {
   "attachments": {},
   "cell_type": "markdown",
   "metadata": {},
   "source": [
    "Vamos, primeiramente, fazer feature engeneering.\n",
    "Seguir para o notebook 2."
   ]
  }
 ],
 "metadata": {
  "kernelspec": {
   "display_name": "dataset_COMPETICAO",
   "language": "python",
   "name": "python3"
  },
  "language_info": {
   "codemirror_mode": {
    "name": "ipython",
    "version": 3
   },
   "file_extension": ".py",
   "mimetype": "text/x-python",
   "name": "python",
   "nbconvert_exporter": "python",
   "pygments_lexer": "ipython3",
   "version": "3.9.15 (main, Nov 24 2022, 14:31:59) \n[GCC 11.2.0]"
  },
  "orig_nbformat": 4,
  "vscode": {
   "interpreter": {
    "hash": "af40022f6b24da7d0ec2d2ff3772b63b87a9d2e288a5206d322010ec73befb1d"
   }
  }
 },
 "nbformat": 4,
 "nbformat_minor": 2
}
