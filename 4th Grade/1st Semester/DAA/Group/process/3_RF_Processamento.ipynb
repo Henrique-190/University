{
 "cells": [
  {
   "attachments": {},
   "cell_type": "markdown",
   "metadata": {},
   "source": [
    "# Processamento individual - Random Forest"
   ]
  },
  {
   "cell_type": "code",
   "execution_count": 2,
   "metadata": {},
   "outputs": [],
   "source": [
    "#imports\n",
    "import pandas as pd\n",
    "import numpy as np\n",
    "import matplotlib.pyplot as plt\n",
    "import seaborn as sns\n",
    "import plotly.express as px\n",
    "from sklearn.model_selection import cross_validate, StratifiedKFold\n",
    "from sklearn.tree import DecisionTreeRegressor\n",
    "from sklearn.ensemble import RandomForestRegressor\n",
    "from catboost import CatBoostRegressor\n",
    "from sklearn.ensemble import ExtraTreesRegressor\n",
    "from sklearn.metrics import make_scorer\n",
    "from sklearn.metrics import (\n",
    "        mean_absolute_error,\n",
    "        mean_squared_error,\n",
    "        mean_squared_log_error,\n",
    "        r2_score,\n",
    ")\n",
    "%matplotlib inline\n",
    "from sklearn.preprocessing import RobustScaler\n",
    "from sklearn.model_selection import train_test_split\n",
    "from sklearn.preprocessing import MinMaxScaler"
   ]
  },
  {
   "cell_type": "code",
   "execution_count": 3,
   "metadata": {},
   "outputs": [],
   "source": [
    "df = pd.read_csv(\"../input/Occupancy_Estimation_cleaned_outliers.csv\")"
   ]
  },
  {
   "cell_type": "code",
   "execution_count": 4,
   "metadata": {},
   "outputs": [
    {
     "data": {
      "text/html": [
       "<div>\n",
       "<style scoped>\n",
       "    .dataframe tbody tr th:only-of-type {\n",
       "        vertical-align: middle;\n",
       "    }\n",
       "\n",
       "    .dataframe tbody tr th {\n",
       "        vertical-align: top;\n",
       "    }\n",
       "\n",
       "    .dataframe thead th {\n",
       "        text-align: right;\n",
       "    }\n",
       "</style>\n",
       "<table border=\"1\" class=\"dataframe\">\n",
       "  <thead>\n",
       "    <tr style=\"text-align: right;\">\n",
       "      <th></th>\n",
       "      <th>fit_time</th>\n",
       "      <th>score_time</th>\n",
       "      <th>test_MAE</th>\n",
       "      <th>test_MSE</th>\n",
       "      <th>test_RMSE</th>\n",
       "      <th>test_r2_Score</th>\n",
       "      <th>test_RMSLE</th>\n",
       "    </tr>\n",
       "  </thead>\n",
       "  <tbody>\n",
       "    <tr>\n",
       "      <th>0</th>\n",
       "      <td>0.353381</td>\n",
       "      <td>0.009281</td>\n",
       "      <td>0.050714</td>\n",
       "      <td>0.044551</td>\n",
       "      <td>0.209968</td>\n",
       "      <td>0.9372</td>\n",
       "      <td>0.089815</td>\n",
       "    </tr>\n",
       "  </tbody>\n",
       "</table>\n",
       "</div>"
      ],
      "text/plain": [
       "   fit_time  score_time  test_MAE  test_MSE  test_RMSE  test_r2_Score  \\\n",
       "0  0.353381    0.009281  0.050714  0.044551   0.209968         0.9372   \n",
       "\n",
       "   test_RMSLE  \n",
       "0    0.089815  "
      ]
     },
     "execution_count": 4,
     "metadata": {},
     "output_type": "execute_result"
    }
   ],
   "source": [
    "METRICS = {\n",
    "        \"MAE\": make_scorer(mean_absolute_error),\n",
    "        \"MSE\": make_scorer(mean_squared_error,squared=True),\n",
    "        \"RMSE\": make_scorer(mean_squared_error,squared=False),\n",
    "        \"r2_Score\": make_scorer(r2_score),\n",
    "        \"RMSLE\": make_scorer(mean_squared_log_error,squared=False)\n",
    "}\n",
    "\n",
    "X, y = df.drop(\"Room_Occupancy_Count\", axis=1), df[\"Room_Occupancy_Count\"]\n",
    "\n",
    "splitter = StratifiedKFold(n_splits=10, shuffle=True, random_state=1234)\n",
    "#Função de kfold com 10 iterações, garante que os resultados são iguais\n",
    "\n",
    "rf = RandomForestRegressor(max_depth=3, random_state=1234)\n",
    "scores = cross_validate(rf, X, y, cv=splitter, scoring=METRICS)\n",
    "rf_scores = pd.DataFrame(scores)\n",
    "pd.DataFrame(rf_scores.mean()).T"
   ]
  },
  {
   "attachments": {},
   "cell_type": "markdown",
   "metadata": {},
   "source": [
    "# Cenário 3 - Normalização - (0,1)"
   ]
  },
  {
   "cell_type": "code",
   "execution_count": 5,
   "metadata": {},
   "outputs": [],
   "source": [
    "df_norm = df.copy()"
   ]
  },
  {
   "cell_type": "code",
   "execution_count": 6,
   "metadata": {},
   "outputs": [
    {
     "data": {
      "text/html": [
       "<div>\n",
       "<style scoped>\n",
       "    .dataframe tbody tr th:only-of-type {\n",
       "        vertical-align: middle;\n",
       "    }\n",
       "\n",
       "    .dataframe tbody tr th {\n",
       "        vertical-align: top;\n",
       "    }\n",
       "\n",
       "    .dataframe thead th {\n",
       "        text-align: right;\n",
       "    }\n",
       "</style>\n",
       "<table border=\"1\" class=\"dataframe\">\n",
       "  <thead>\n",
       "    <tr style=\"text-align: right;\">\n",
       "      <th></th>\n",
       "      <th>S1_Temp</th>\n",
       "      <th>S1_Light</th>\n",
       "      <th>S1_Sound</th>\n",
       "      <th>S5_CO2</th>\n",
       "      <th>S6_PIR</th>\n",
       "      <th>Room_Occupancy_Count</th>\n",
       "      <th>day_of_month</th>\n",
       "      <th>week_day</th>\n",
       "      <th>month</th>\n",
       "      <th>year</th>\n",
       "      <th>hour</th>\n",
       "      <th>minute</th>\n",
       "    </tr>\n",
       "  </thead>\n",
       "  <tbody>\n",
       "    <tr>\n",
       "      <th>0</th>\n",
       "      <td>0.000000</td>\n",
       "      <td>0.733333</td>\n",
       "      <td>0.012942</td>\n",
       "      <td>0.0</td>\n",
       "      <td>0.0</td>\n",
       "      <td>1</td>\n",
       "      <td>0.75</td>\n",
       "      <td>0.666667</td>\n",
       "      <td>1.0</td>\n",
       "      <td>0.0</td>\n",
       "      <td>0.434783</td>\n",
       "      <td>0.830508</td>\n",
       "    </tr>\n",
       "    <tr>\n",
       "      <th>1</th>\n",
       "      <td>0.000000</td>\n",
       "      <td>0.733333</td>\n",
       "      <td>0.219839</td>\n",
       "      <td>0.0</td>\n",
       "      <td>0.0</td>\n",
       "      <td>1</td>\n",
       "      <td>0.75</td>\n",
       "      <td>0.666667</td>\n",
       "      <td>1.0</td>\n",
       "      <td>0.0</td>\n",
       "      <td>0.434783</td>\n",
       "      <td>0.847458</td>\n",
       "    </tr>\n",
       "    <tr>\n",
       "      <th>2</th>\n",
       "      <td>0.045802</td>\n",
       "      <td>0.733333</td>\n",
       "      <td>0.085791</td>\n",
       "      <td>0.0</td>\n",
       "      <td>0.0</td>\n",
       "      <td>1</td>\n",
       "      <td>0.75</td>\n",
       "      <td>0.666667</td>\n",
       "      <td>1.0</td>\n",
       "      <td>0.0</td>\n",
       "      <td>0.434783</td>\n",
       "      <td>0.847458</td>\n",
       "    </tr>\n",
       "    <tr>\n",
       "      <th>3</th>\n",
       "      <td>0.045802</td>\n",
       "      <td>0.733333</td>\n",
       "      <td>0.080429</td>\n",
       "      <td>0.0</td>\n",
       "      <td>0.0</td>\n",
       "      <td>1</td>\n",
       "      <td>0.75</td>\n",
       "      <td>0.666667</td>\n",
       "      <td>1.0</td>\n",
       "      <td>0.0</td>\n",
       "      <td>0.434783</td>\n",
       "      <td>0.864407</td>\n",
       "    </tr>\n",
       "    <tr>\n",
       "      <th>4</th>\n",
       "      <td>0.045802</td>\n",
       "      <td>0.733333</td>\n",
       "      <td>0.018767</td>\n",
       "      <td>0.0</td>\n",
       "      <td>0.0</td>\n",
       "      <td>1</td>\n",
       "      <td>0.75</td>\n",
       "      <td>0.666667</td>\n",
       "      <td>1.0</td>\n",
       "      <td>0.0</td>\n",
       "      <td>0.434783</td>\n",
       "      <td>0.864407</td>\n",
       "    </tr>\n",
       "  </tbody>\n",
       "</table>\n",
       "</div>"
      ],
      "text/plain": [
       "    S1_Temp  S1_Light  S1_Sound  S5_CO2  S6_PIR  Room_Occupancy_Count  \\\n",
       "0  0.000000  0.733333  0.012942     0.0     0.0                     1   \n",
       "1  0.000000  0.733333  0.219839     0.0     0.0                     1   \n",
       "2  0.045802  0.733333  0.085791     0.0     0.0                     1   \n",
       "3  0.045802  0.733333  0.080429     0.0     0.0                     1   \n",
       "4  0.045802  0.733333  0.018767     0.0     0.0                     1   \n",
       "\n",
       "   day_of_month  week_day  month  year      hour    minute  \n",
       "0          0.75  0.666667    1.0   0.0  0.434783  0.830508  \n",
       "1          0.75  0.666667    1.0   0.0  0.434783  0.847458  \n",
       "2          0.75  0.666667    1.0   0.0  0.434783  0.847458  \n",
       "3          0.75  0.666667    1.0   0.0  0.434783  0.864407  \n",
       "4          0.75  0.666667    1.0   0.0  0.434783  0.864407  "
      ]
     },
     "execution_count": 6,
     "metadata": {},
     "output_type": "execute_result"
    }
   ],
   "source": [
    "scaler = MinMaxScaler()\n",
    "min_max_scaler = MinMaxScaler(feature_range=(0,1))\n",
    "\n",
    "dict_scalers = {}\n",
    "\n",
    "columns = list(df_norm.columns)\n",
    "columns.remove('Room_Occupancy_Count')\n",
    "\n",
    "for col in columns:\n",
    "    # fit\n",
    "    scaler_col = scaler.fit(df_norm[[col]])\n",
    "    # transform\n",
    "    df_norm[[col]] = scaler.transform(df_norm[[col]])\n",
    "    # guardar scaler no dict\n",
    "    dict_scalers[col] = scaler_col\n",
    "\n",
    "df_norm.head()"
   ]
  },
  {
   "cell_type": "code",
   "execution_count": 7,
   "metadata": {},
   "outputs": [],
   "source": [
    "Xn, yn = df_norm.drop(\"Room_Occupancy_Count\", axis=1), df_norm[\"Room_Occupancy_Count\"]"
   ]
  },
  {
   "cell_type": "code",
   "execution_count": 8,
   "metadata": {},
   "outputs": [
    {
     "data": {
      "text/html": [
       "<div>\n",
       "<style scoped>\n",
       "    .dataframe tbody tr th:only-of-type {\n",
       "        vertical-align: middle;\n",
       "    }\n",
       "\n",
       "    .dataframe tbody tr th {\n",
       "        vertical-align: top;\n",
       "    }\n",
       "\n",
       "    .dataframe thead th {\n",
       "        text-align: right;\n",
       "    }\n",
       "</style>\n",
       "<table border=\"1\" class=\"dataframe\">\n",
       "  <thead>\n",
       "    <tr style=\"text-align: right;\">\n",
       "      <th></th>\n",
       "      <th>fit_time</th>\n",
       "      <th>score_time</th>\n",
       "      <th>test_MAE</th>\n",
       "      <th>test_MSE</th>\n",
       "      <th>test_RMSE</th>\n",
       "      <th>test_r2_Score</th>\n",
       "      <th>test_RMSLE</th>\n",
       "    </tr>\n",
       "  </thead>\n",
       "  <tbody>\n",
       "    <tr>\n",
       "      <th>0</th>\n",
       "      <td>0.346922</td>\n",
       "      <td>0.009467</td>\n",
       "      <td>0.050714</td>\n",
       "      <td>0.044551</td>\n",
       "      <td>0.209968</td>\n",
       "      <td>0.9372</td>\n",
       "      <td>0.089815</td>\n",
       "    </tr>\n",
       "  </tbody>\n",
       "</table>\n",
       "</div>"
      ],
      "text/plain": [
       "   fit_time  score_time  test_MAE  test_MSE  test_RMSE  test_r2_Score  \\\n",
       "0  0.346922    0.009467  0.050714  0.044551   0.209968         0.9372   \n",
       "\n",
       "   test_RMSLE  \n",
       "0    0.089815  "
      ]
     },
     "execution_count": 8,
     "metadata": {},
     "output_type": "execute_result"
    }
   ],
   "source": [
    "X_train, X_test, y_train, y_test = train_test_split(Xn, yn, test_size=0.2, random_state=1234)\n",
    "\n",
    "rf_norm = RandomForestRegressor(max_depth=3, random_state=1234)\n",
    "\n",
    "# Use the METRICS dictionary as the scoring parameter\n",
    "scoring = METRICS\n",
    "\n",
    "# Perform cross-validation on the scaled data\n",
    "scores = cross_validate(rf_norm, Xn, yn, cv=splitter, scoring=scoring)\n",
    "\n",
    "rf_scores = pd.DataFrame(scores)\n",
    "pd.DataFrame(rf_scores.mean()).T"
   ]
  },
  {
   "attachments": {},
   "cell_type": "markdown",
   "metadata": {},
   "source": [
    "## Feature Importance"
   ]
  },
  {
   "attachments": {},
   "cell_type": "markdown",
   "metadata": {},
   "source": [
    "O objetivo é comprovar que a nossa seleção estava correta.\n",
    "\n",
    "Para isso, vamos focar-nos nas features de condições ambientais e verficar a sua importancia."
   ]
  },
  {
   "cell_type": "code",
   "execution_count": 9,
   "metadata": {},
   "outputs": [
    {
     "data": {
      "text/html": [
       "<div>\n",
       "<style scoped>\n",
       "    .dataframe tbody tr th:only-of-type {\n",
       "        vertical-align: middle;\n",
       "    }\n",
       "\n",
       "    .dataframe tbody tr th {\n",
       "        vertical-align: top;\n",
       "    }\n",
       "\n",
       "    .dataframe thead th {\n",
       "        text-align: right;\n",
       "    }\n",
       "</style>\n",
       "<table border=\"1\" class=\"dataframe\">\n",
       "  <thead>\n",
       "    <tr style=\"text-align: right;\">\n",
       "      <th></th>\n",
       "      <th>fit_time</th>\n",
       "      <th>score_time</th>\n",
       "      <th>test_MAE</th>\n",
       "      <th>test_MSE</th>\n",
       "      <th>test_RMSE</th>\n",
       "      <th>test_r2_Score</th>\n",
       "      <th>test_RMSLE</th>\n",
       "    </tr>\n",
       "  </thead>\n",
       "  <tbody>\n",
       "    <tr>\n",
       "      <th>0</th>\n",
       "      <td>0.262521</td>\n",
       "      <td>0.009695</td>\n",
       "      <td>0.050766</td>\n",
       "      <td>0.044627</td>\n",
       "      <td>0.210119</td>\n",
       "      <td>0.937092</td>\n",
       "      <td>0.089853</td>\n",
       "    </tr>\n",
       "  </tbody>\n",
       "</table>\n",
       "</div>"
      ],
      "text/plain": [
       "   fit_time  score_time  test_MAE  test_MSE  test_RMSE  test_r2_Score  \\\n",
       "0  0.262521    0.009695  0.050766  0.044627   0.210119       0.937092   \n",
       "\n",
       "   test_RMSLE  \n",
       "0    0.089853  "
      ]
     },
     "execution_count": 9,
     "metadata": {},
     "output_type": "execute_result"
    }
   ],
   "source": [
    "df_final = df.copy()\n",
    "df_final = df_final.drop(columns=['day_of_month', 'year','month','week_day','hour'])\n",
    "Xf, yf = df_final.drop(\"Room_Occupancy_Count\", axis=1), df_final[\"Room_Occupancy_Count\"]\n",
    "rf_final = RandomForestRegressor(max_depth=3, random_state=1234)\n",
    "\n",
    "# Use the METRICS dictionary as the scoring parameter\n",
    "scoring = METRICS\n",
    "\n",
    "# Perform cross-validation on the scaled data\n",
    "scores = cross_validate(rf_final, Xf, yf, cv=splitter, scoring=scoring)\n",
    "\n",
    "rf_scores = pd.DataFrame(scores)\n",
    "pd.DataFrame(rf_scores.mean()).T"
   ]
  },
  {
   "cell_type": "code",
   "execution_count": 10,
   "metadata": {},
   "outputs": [
    {
     "data": {
      "text/html": [
       "<div>\n",
       "<style scoped>\n",
       "    .dataframe tbody tr th:only-of-type {\n",
       "        vertical-align: middle;\n",
       "    }\n",
       "\n",
       "    .dataframe tbody tr th {\n",
       "        vertical-align: top;\n",
       "    }\n",
       "\n",
       "    .dataframe thead th {\n",
       "        text-align: right;\n",
       "    }\n",
       "</style>\n",
       "<table border=\"1\" class=\"dataframe\">\n",
       "  <thead>\n",
       "    <tr style=\"text-align: right;\">\n",
       "      <th></th>\n",
       "      <th>importance</th>\n",
       "    </tr>\n",
       "  </thead>\n",
       "  <tbody>\n",
       "    <tr>\n",
       "      <th>S1_Light</th>\n",
       "      <td>0.703806</td>\n",
       "    </tr>\n",
       "    <tr>\n",
       "      <th>S1_Sound</th>\n",
       "      <td>0.205596</td>\n",
       "    </tr>\n",
       "    <tr>\n",
       "      <th>S5_CO2</th>\n",
       "      <td>0.090598</td>\n",
       "    </tr>\n",
       "    <tr>\n",
       "      <th>S1_Temp</th>\n",
       "      <td>0.000000</td>\n",
       "    </tr>\n",
       "    <tr>\n",
       "      <th>S6_PIR</th>\n",
       "      <td>0.000000</td>\n",
       "    </tr>\n",
       "    <tr>\n",
       "      <th>minute</th>\n",
       "      <td>0.000000</td>\n",
       "    </tr>\n",
       "  </tbody>\n",
       "</table>\n",
       "</div>"
      ],
      "text/plain": [
       "          importance\n",
       "S1_Light    0.703806\n",
       "S1_Sound    0.205596\n",
       "S5_CO2      0.090598\n",
       "S1_Temp     0.000000\n",
       "S6_PIR      0.000000\n",
       "minute      0.000000"
      ]
     },
     "execution_count": 10,
     "metadata": {},
     "output_type": "execute_result"
    }
   ],
   "source": [
    "rf_final.fit(Xf, yf)\n",
    "\n",
    "# Obter a importância de cada feature\n",
    "importances = rf_final.feature_importances_\n",
    "\n",
    "column_names = Xf.columns\n",
    "## feature importance\n",
    "feature_importances = pd.DataFrame(importances, index = column_names, columns=['importance'])\n",
    "feature_importances.sort_values(by='importance', ascending=False).head(10)"
   ]
  },
  {
   "attachments": {},
   "cell_type": "markdown",
   "metadata": {},
   "source": [
    "Assim sendo, observa-se que as features mais importantes foram as selecionadas."
   ]
  }
 ],
 "metadata": {
  "kernelspec": {
   "display_name": "dataset_COMPETICAO",
   "language": "python",
   "name": "python3"
  },
  "language_info": {
   "codemirror_mode": {
    "name": "ipython",
    "version": 3
   },
   "file_extension": ".py",
   "mimetype": "text/x-python",
   "name": "python",
   "nbconvert_exporter": "python",
   "pygments_lexer": "ipython3",
   "version": "3.9.15 (main, Nov 24 2022, 14:31:59) \n[GCC 11.2.0]"
  },
  "orig_nbformat": 4,
  "vscode": {
   "interpreter": {
    "hash": "af40022f6b24da7d0ec2d2ff3772b63b87a9d2e288a5206d322010ec73befb1d"
   }
  }
 },
 "nbformat": 4,
 "nbformat_minor": 2
}
