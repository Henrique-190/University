{
 "cells": [
  {
   "attachments": {},
   "cell_type": "markdown",
   "metadata": {},
   "source": [
    "# Modelo 2 - LGBM - Processamento individual"
   ]
  },
  {
   "cell_type": "code",
   "execution_count": 41,
   "metadata": {},
   "outputs": [],
   "source": [
    "import re\n",
    "from collections import Counter\n",
    "import sklearn as skl\n",
    "import pandas as pd\n",
    "import numpy as np\n",
    "import matplotlib.pyplot as plt\n",
    "%matplotlib inline\n",
    "import seaborn as sns\n",
    "from sklearn import preprocessing\n",
    "from sklearn.model_selection import cross_val_score\n",
    "from sklearn.model_selection import train_test_split\n",
    "from sklearn import metrics\n",
    "from sklearn.svm import SVC\n",
    "from sklearn.metrics import classification_report,plot_confusion_matrix, accuracy_score, precision_score, recall_score\n",
    "from lightgbm import LGBMClassifier\n",
    "from sklearn.tree import DecisionTreeClassifier\n",
    "from sklearn.ensemble import RandomForestClassifier\n",
    "from sklearn.ensemble import GradientBoostingClassifier\n",
    "from sklearn.ensemble import ExtraTreesClassifier\n",
    "from sklearn.neighbors import KNeighborsClassifier\n",
    "from sklearn.preprocessing import MinMaxScaler\n",
    "from sklearn.feature_selection import SelectFromModel"
   ]
  },
  {
   "cell_type": "code",
   "execution_count": 42,
   "metadata": {},
   "outputs": [],
   "source": [
    "incidentes = pd.read_csv(\"../input/train_data_cleaned.csv\", index_col=0)\n",
    "teste = pd.read_csv(\"../input/test_data_cleaned.csv\", index_col=0)"
   ]
  },
  {
   "attachments": {},
   "cell_type": "markdown",
   "metadata": {},
   "source": [
    "## 1 - Tratar Outliers"
   ]
  },
  {
   "cell_type": "code",
   "execution_count": 43,
   "metadata": {},
   "outputs": [],
   "source": [
    "# função que determina se uma coluna está desviada e que a transforma conforme o caso\n",
    "def check_and_transform_skewness(column_list,df):\n",
    "  for col in column_list:\n",
    "    skewness = df[col].skew()\n",
    "    print(f'Initial skewness: {skewness}')\n",
    "    if -1 < skewness < 1:\n",
    "      df[col] = np.log1p(df[col])\n",
    "      print(f'High skewness: {df[col].skew()}')\n",
    "      print(\"Done\")\n",
    "    elif -0.3 < skewness < -1 or 0.3 < skewness < 1:\n",
    "      df[col] = np.log1p(df[col])\n",
    "      print(f'Moderate skewness: {df[col].skew()}')\n",
    "      print(\"Done\")\n",
    "    elif -0.3 < skewness < 0.3:\n",
    "      print(f\"column \\'{col}\\' is fairly skewed.\")\n",
    "    return df"
   ]
  },
  {
   "cell_type": "code",
   "execution_count": 44,
   "metadata": {},
   "outputs": [],
   "source": [
    "# dados, lista de colunas, flg com método de deteção, method = string com a forma de os substituir.\n",
    "def process_outliers(df, columns, flag, method):\n",
    "    if flag == 1:\n",
    "        # Use IQR distance to detect outliers\n",
    "        for col in columns:\n",
    "            median = df[col].median()\n",
    "            lower_quartile = df[col].quantile(0.25)\n",
    "            upper_quartile = df[col].quantile(0.75)\n",
    "            iqr = upper_quartile - lower_quartile\n",
    "\n",
    "            # Find the rows with outliers\n",
    "            outliers = df[(df[col] < lower_quartile - 1.5 * iqr) | (df[col] > upper_quartile + 1.5 * iqr)]\n",
    "            indices = outliers.index\n",
    "            #outliers_per = len(outliers)/len(df[col] * 100)\n",
    "\n",
    "            # Process the outliers according to the specified method\n",
    "            if method == \"remove\":\n",
    "                df = df.drop(indices)\n",
    "            elif method == \"median\":\n",
    "                df.loc[indices, col] = median\n",
    "            elif method == \"mode\":\n",
    "                df.loc[indices, col] = df[col].mode()[0]\n",
    "            elif method == \"mean\":\n",
    "                df.loc[indices, col] = df[col].mean()\n",
    "    elif flag == 2:\n",
    "        # Use MAD to detect outliers\n",
    "        for col in columns:\n",
    "            median = df[col].median()\n",
    "            mad = np.mean(np.abs(df[col] - median))\n",
    "\n",
    "            # Find the rows with outliers\n",
    "            outliers = df[(df[col] - median).abs() > 3*mad]\n",
    "            indices = outliers.index\n",
    "\n",
    "            # Process the outliers according to the specified method\n",
    "            if method == \"remove\":\n",
    "                df = df.drop(indices)\n",
    "            elif method == \"median\":\n",
    "                df.loc[indices, col] = median\n",
    "            elif method == \"mode\":\n",
    "                df.loc[indices, col] = df[col].mode()[0]\n",
    "            elif method == \"mean\":\n",
    "                df.loc[indices, col] = df[col].mean()\n",
    "    else:\n",
    "        raise ValueError(\"Invalid flag. Must be 1 (IQR) or 2 (MAD).\")\n",
    "\n",
    "    return df"
   ]
  },
  {
   "cell_type": "code",
   "execution_count": 45,
   "metadata": {},
   "outputs": [
    {
     "name": "stdout",
     "output_type": "stream",
     "text": [
      "Trabalho nos dados de treino ...\n",
      "Initial skewness: 6.274560871857796\n",
      "Trabalho nos dados de teste ...\n",
      "Initial skewness: 4.866904832456009\n",
      "Done.\n"
     ]
    }
   ],
   "source": [
    "not_skewed_columns = ['avg_temperature']\n",
    "skewed_columns = ['delay_in_seconds', 'avg_atm_pressure','avg_humidity']\n",
    "\n",
    "# tratar as desviadas com log transform\n",
    "print(\"Trabalho nos dados de treino ...\")\n",
    "incidentes_transformed = check_and_transform_skewness(skewed_columns, incidentes)\n",
    "print(\"Trabalho nos dados de teste ...\")\n",
    "teste_transformed = check_and_transform_skewness(skewed_columns, teste)\n",
    "print(\"Done.\")"
   ]
  },
  {
   "cell_type": "code",
   "execution_count": 46,
   "metadata": {},
   "outputs": [],
   "source": [
    "incidentes_media = incidentes_transformed.copy()\n",
    "incidentes_media = process_outliers(incidentes_media,not_skewed_columns,1,\"mean\")"
   ]
  },
  {
   "attachments": {},
   "cell_type": "markdown",
   "metadata": {},
   "source": [
    "## Modelo"
   ]
  },
  {
   "cell_type": "code",
   "execution_count": 47,
   "metadata": {},
   "outputs": [],
   "source": [
    "x_media = incidentes_media.drop(['incidents'], axis=1)\n",
    "y_media = incidentes_media['incidents']"
   ]
  },
  {
   "cell_type": "code",
   "execution_count": 48,
   "metadata": {},
   "outputs": [],
   "source": [
    "X_train, X_test, y_train, y_test = train_test_split(x_media, y_media, test_size=0.25, random_state=42)"
   ]
  },
  {
   "cell_type": "code",
   "execution_count": 49,
   "metadata": {},
   "outputs": [
    {
     "name": "stdout",
     "output_type": "stream",
     "text": [
      "              precision    recall  f1-score   support\n",
      "\n",
      "           0       0.99      0.99      0.99       517\n",
      "           1       0.88      0.93      0.91       189\n",
      "           2       0.86      0.81      0.84       144\n",
      "           3       0.93      0.90      0.92       265\n",
      "           4       0.91      0.96      0.93       135\n",
      "\n",
      "    accuracy                           0.94      1250\n",
      "   macro avg       0.92      0.92      0.92      1250\n",
      "weighted avg       0.94      0.94      0.94      1250\n",
      "\n",
      "0.94\n"
     ]
    },
    {
     "name": "stderr",
     "output_type": "stream",
     "text": [
      "/home/purp/anaconda3/envs/dataset_COMPETICAO/lib/python3.9/site-packages/sklearn/utils/deprecation.py:87: FutureWarning: Function plot_confusion_matrix is deprecated; Function `plot_confusion_matrix` is deprecated in 1.0 and will be removed in 1.2. Use one of the class methods: ConfusionMatrixDisplay.from_predictions or ConfusionMatrixDisplay.from_estimator.\n",
      "  warnings.warn(msg, category=FutureWarning)\n"
     ]
    },
    {
     "data": {
      "image/png": "[encoded data removed]",
      "text/plain": [
       "<Figure size 640x480 with 2 Axes>"
      ]
     },
     "metadata": {},
     "output_type": "display_data"
    }
   ],
   "source": [
    "lgb_model = LGBMClassifier(boosting_type='gbdt', learning_rate=0.1, n_estimators=100, random_state=42)\n",
    "lgb_model.fit(X_train, y_train)\n",
    "lgb_pred = lgb_model.predict(X_test)\n",
    "print(classification_report(y_test,lgb_pred))\n",
    "plot_confusion_matrix(lgb_model,X_test,y_test)\n",
    "plt.show\n",
    "print(accuracy_score(y_test, lgb_pred))"
   ]
  },
  {
   "cell_type": "code",
   "execution_count": 50,
   "metadata": {},
   "outputs": [],
   "source": [
    "# gera o dataset a submeter na competição\n",
    "def gerar_submissao(predictions):\n",
    "    #gerar submissão\n",
    "    submission = pd.DataFrame(predictions, columns = [\"Incidents\"])\n",
    "    submission.insert(0, \"RowId\", range(1,1207), True)\n",
    "    submission[\"Incidents\"] = submission['Incidents'].replace({0 : 'None', 1 : 'Low', 2 : 'Medium', 3 : 'High', 4 : 'Very_High'}).astype(str)\n",
    "    submission.to_csv('../output/submission.csv',index=False)\n",
    "    print(\"Exported.\")"
   ]
  },
  {
   "cell_type": "code",
   "execution_count": 51,
   "metadata": {},
   "outputs": [],
   "source": [
    "#test_pred = rf_model.predict(teste)\n",
    "#gerar_submissao(test_pred)"
   ]
  },
  {
   "attachments": {},
   "cell_type": "markdown",
   "metadata": {},
   "source": [
    "## 2. Normalização - (0,1)"
   ]
  },
  {
   "attachments": {},
   "cell_type": "markdown",
   "metadata": {},
   "source": [
    "\n",
    "* Pretendemos fazer Feature Selection, apesar de, intuitivamente já termos feito algum;\n",
    "* Vamos explorar os diferentes métodos conhecidos de normalização, relevante ser feita antes de feature selection, até porque, um dos métodos mais conhecidos, utiliza algoritmos que funcionam melhor com dados normalizados;\n",
    "* Então, nesta secção, trata-se apenas normalização;\n",
    "* Dado que o tratamento de outliers não apresentou melhorias em termos de previsão, descartamos esse tratamento e voltamos ao tratamento anterior, com presença de outliers. A boa notícia é a existência de formas de normalização que acabam por reduzir o impacto destes outliers, o que pode melhorar o desempenho do modelo (como é o caso da transformação logarítmica, como veremos);\n",
    "* A ideia é, então, observar cada feature antes e depois desta normalização, percebendo como cada tipo funciona e se contribui ou não para obtenção de melhores métricas;\n",
    "* De forma resumida existem 3 tipos de normalização [1]:\n",
    "    * Normalizar num intervalo, normalmente entre 0 e 1;\n",
    "        * Resulta bem com:\n",
    "            * Distribuição normal de dados;\n",
    "            * Há intuitivamente uma barreira superior/inferior nos dados;\n",
    "    * Feature Clipping, que remove todos os valores abaixo/acima de um intervalo;\n",
    "        * Resulta bem com:\n",
    "            * Existência de muitos outliers extremos (selecionar o intervalo de acordo com os outliers);\n",
    "            * Pode ser aplicada antes ou depois de outras normalizações;\n",
    "    * Transformação Log., transforma os valores no seu logaritmo;        \n",
    "        * Resulta bem com:\n",
    "            * Distribuição não normal de dados (skewness);\n",
    "            * Há muitas ocorrências de uma certa classe e poucas de outra;\n",
    "\n",
    "[1] https://developers.google.com/machine-learning/data-prep/transform/normalization"
   ]
  },
  {
   "cell_type": "code",
   "execution_count": 52,
   "metadata": {},
   "outputs": [
    {
     "name": "stdout",
     "output_type": "stream",
     "text": [
      "['magnitude_of_delay', 'delay_in_seconds', 'luminosity', 'avg_temperature', 'avg_atm_pressure', 'avg_humidity', 'avg_wind_speed', 'avg_rain', 'National', 'Regional', 'day_of_month', 'week_day', 'month', 'hour', 'day_of_year', 'season', 'is_holiday', 'is_weekend']\n"
     ]
    }
   ],
   "source": [
    "dict_scalers = {}\n",
    "\n",
    "scaler = MinMaxScaler()\n",
    "min_max_scaler = preprocessing.MinMaxScaler(feature_range=(0,1))\n",
    "\n",
    "incidentes_norm = incidentes_media.copy()\n",
    "teste_norm = teste_transformed.copy()\n",
    "columns = list(incidentes_norm.columns)\n",
    "columns.remove('incidents')\n",
    "print(columns)\n",
    "\n",
    "# fazemos o fit, guardamos o scaler da coluna, aplicamos ao teste\n",
    "# assim podemos fazer o inverse_transform se necessário, depois.\n",
    "for col in columns:\n",
    "    # fit\n",
    "    scaler_col = min_max_scaler.fit(incidentes_norm[[col]])\n",
    "    # transform\n",
    "    incidentes_norm[[col]] = min_max_scaler.transform(incidentes_norm[[col]])\n",
    "    # guardar scaler no dict\n",
    "    dict_scalers[col] = scaler_col\n",
    "    teste_norm[[col]] = dict_scalers.get(col).transform(teste_norm[[col]])"
   ]
  },
  {
   "cell_type": "code",
   "execution_count": 53,
   "metadata": {},
   "outputs": [
    {
     "data": {
      "text/html": [
       "<div>\n",
       "<style scoped>\n",
       "    .dataframe tbody tr th:only-of-type {\n",
       "        vertical-align: middle;\n",
       "    }\n",
       "\n",
       "    .dataframe tbody tr th {\n",
       "        vertical-align: top;\n",
       "    }\n",
       "\n",
       "    .dataframe thead th {\n",
       "        text-align: right;\n",
       "    }\n",
       "</style>\n",
       "<table border=\"1\" class=\"dataframe\">\n",
       "  <thead>\n",
       "    <tr style=\"text-align: right;\">\n",
       "      <th></th>\n",
       "      <th>magnitude_of_delay</th>\n",
       "      <th>delay_in_seconds</th>\n",
       "      <th>luminosity</th>\n",
       "      <th>avg_temperature</th>\n",
       "      <th>avg_atm_pressure</th>\n",
       "      <th>avg_humidity</th>\n",
       "      <th>avg_wind_speed</th>\n",
       "      <th>avg_rain</th>\n",
       "      <th>incidents</th>\n",
       "      <th>National</th>\n",
       "      <th>Regional</th>\n",
       "      <th>day_of_month</th>\n",
       "      <th>week_day</th>\n",
       "      <th>month</th>\n",
       "      <th>hour</th>\n",
       "      <th>day_of_year</th>\n",
       "      <th>season</th>\n",
       "      <th>is_holiday</th>\n",
       "      <th>is_weekend</th>\n",
       "    </tr>\n",
       "  </thead>\n",
       "  <tbody>\n",
       "    <tr>\n",
       "      <th>0</th>\n",
       "      <td>0.0</td>\n",
       "      <td>0.000000</td>\n",
       "      <td>0.0</td>\n",
       "      <td>0.407407</td>\n",
       "      <td>0.457143</td>\n",
       "      <td>0.680851</td>\n",
       "      <td>0.1</td>\n",
       "      <td>0.0</td>\n",
       "      <td>0</td>\n",
       "      <td>0.000000</td>\n",
       "      <td>0.000000</td>\n",
       "      <td>0.466667</td>\n",
       "      <td>0.000000</td>\n",
       "      <td>0.181818</td>\n",
       "      <td>1.000000</td>\n",
       "      <td>0.166189</td>\n",
       "      <td>0.000000</td>\n",
       "      <td>0.0</td>\n",
       "      <td>0.0</td>\n",
       "    </tr>\n",
       "    <tr>\n",
       "      <th>1</th>\n",
       "      <td>0.0</td>\n",
       "      <td>0.012386</td>\n",
       "      <td>0.0</td>\n",
       "      <td>0.407407</td>\n",
       "      <td>0.285714</td>\n",
       "      <td>0.904255</td>\n",
       "      <td>0.1</td>\n",
       "      <td>0.0</td>\n",
       "      <td>0</td>\n",
       "      <td>0.023810</td>\n",
       "      <td>0.000000</td>\n",
       "      <td>0.800000</td>\n",
       "      <td>0.833333</td>\n",
       "      <td>1.000000</td>\n",
       "      <td>0.782609</td>\n",
       "      <td>0.982808</td>\n",
       "      <td>1.000000</td>\n",
       "      <td>1.0</td>\n",
       "      <td>0.0</td>\n",
       "    </tr>\n",
       "    <tr>\n",
       "      <th>2</th>\n",
       "      <td>0.0</td>\n",
       "      <td>0.002220</td>\n",
       "      <td>1.0</td>\n",
       "      <td>0.481481</td>\n",
       "      <td>0.800000</td>\n",
       "      <td>0.617021</td>\n",
       "      <td>0.0</td>\n",
       "      <td>0.0</td>\n",
       "      <td>1</td>\n",
       "      <td>0.000000</td>\n",
       "      <td>0.000000</td>\n",
       "      <td>0.366667</td>\n",
       "      <td>0.666667</td>\n",
       "      <td>0.181818</td>\n",
       "      <td>0.652174</td>\n",
       "      <td>0.157593</td>\n",
       "      <td>0.000000</td>\n",
       "      <td>0.0</td>\n",
       "      <td>0.0</td>\n",
       "    </tr>\n",
       "    <tr>\n",
       "      <th>3</th>\n",
       "      <td>1.0</td>\n",
       "      <td>0.073899</td>\n",
       "      <td>1.0</td>\n",
       "      <td>0.518519</td>\n",
       "      <td>0.885714</td>\n",
       "      <td>0.734043</td>\n",
       "      <td>0.1</td>\n",
       "      <td>0.0</td>\n",
       "      <td>4</td>\n",
       "      <td>0.238095</td>\n",
       "      <td>0.166667</td>\n",
       "      <td>0.933333</td>\n",
       "      <td>0.333333</td>\n",
       "      <td>0.727273</td>\n",
       "      <td>0.391304</td>\n",
       "      <td>0.733524</td>\n",
       "      <td>1.000000</td>\n",
       "      <td>0.0</td>\n",
       "      <td>0.0</td>\n",
       "    </tr>\n",
       "    <tr>\n",
       "      <th>4</th>\n",
       "      <td>0.0</td>\n",
       "      <td>0.000000</td>\n",
       "      <td>1.0</td>\n",
       "      <td>0.962963</td>\n",
       "      <td>0.657143</td>\n",
       "      <td>0.489362</td>\n",
       "      <td>0.1</td>\n",
       "      <td>0.0</td>\n",
       "      <td>3</td>\n",
       "      <td>0.119048</td>\n",
       "      <td>0.000000</td>\n",
       "      <td>0.400000</td>\n",
       "      <td>1.000000</td>\n",
       "      <td>0.454545</td>\n",
       "      <td>0.478261</td>\n",
       "      <td>0.424069</td>\n",
       "      <td>0.333333</td>\n",
       "      <td>0.0</td>\n",
       "      <td>0.0</td>\n",
       "    </tr>\n",
       "  </tbody>\n",
       "</table>\n",
       "</div>"
      ],
      "text/plain": [
       "   magnitude_of_delay  delay_in_seconds  luminosity  avg_temperature  \\\n",
       "0                 0.0          0.000000         0.0         0.407407   \n",
       "1                 0.0          0.012386         0.0         0.407407   \n",
       "2                 0.0          0.002220         1.0         0.481481   \n",
       "3                 1.0          0.073899         1.0         0.518519   \n",
       "4                 0.0          0.000000         1.0         0.962963   \n",
       "\n",
       "   avg_atm_pressure  avg_humidity  avg_wind_speed  avg_rain  incidents  \\\n",
       "0          0.457143      0.680851             0.1       0.0          0   \n",
       "1          0.285714      0.904255             0.1       0.0          0   \n",
       "2          0.800000      0.617021             0.0       0.0          1   \n",
       "3          0.885714      0.734043             0.1       0.0          4   \n",
       "4          0.657143      0.489362             0.1       0.0          3   \n",
       "\n",
       "   National  Regional  day_of_month  week_day     month      hour  \\\n",
       "0  0.000000  0.000000      0.466667  0.000000  0.181818  1.000000   \n",
       "1  0.023810  0.000000      0.800000  0.833333  1.000000  0.782609   \n",
       "2  0.000000  0.000000      0.366667  0.666667  0.181818  0.652174   \n",
       "3  0.238095  0.166667      0.933333  0.333333  0.727273  0.391304   \n",
       "4  0.119048  0.000000      0.400000  1.000000  0.454545  0.478261   \n",
       "\n",
       "   day_of_year    season  is_holiday  is_weekend  \n",
       "0     0.166189  0.000000         0.0         0.0  \n",
       "1     0.982808  1.000000         1.0         0.0  \n",
       "2     0.157593  0.000000         0.0         0.0  \n",
       "3     0.733524  1.000000         0.0         0.0  \n",
       "4     0.424069  0.333333         0.0         0.0  "
      ]
     },
     "execution_count": 53,
     "metadata": {},
     "output_type": "execute_result"
    }
   ],
   "source": [
    "incidentes_norm.head()"
   ]
  },
  {
   "attachments": {},
   "cell_type": "markdown",
   "metadata": {},
   "source": [
    "### Segunda avaliação do modelo com normalização"
   ]
  },
  {
   "cell_type": "code",
   "execution_count": 54,
   "metadata": {},
   "outputs": [],
   "source": [
    "#divisão do target\n",
    "x_norm = incidentes_norm.drop(['incidents'], axis=1)\n",
    "y_norm = incidentes_norm['incidents']"
   ]
  },
  {
   "cell_type": "code",
   "execution_count": 55,
   "metadata": {},
   "outputs": [],
   "source": [
    "X_train, X_test, y_train, y_test = train_test_split(x_norm, y_norm, test_size=0.25, random_state=42)"
   ]
  },
  {
   "cell_type": "code",
   "execution_count": 56,
   "metadata": {},
   "outputs": [
    {
     "name": "stdout",
     "output_type": "stream",
     "text": [
      "              precision    recall  f1-score   support\n",
      "\n",
      "           0       0.99      0.99      0.99       517\n",
      "           1       0.90      0.93      0.92       189\n",
      "           2       0.87      0.83      0.85       144\n",
      "           3       0.92      0.90      0.91       265\n",
      "           4       0.90      0.93      0.92       135\n",
      "\n",
      "    accuracy                           0.94      1250\n",
      "   macro avg       0.92      0.92      0.92      1250\n",
      "weighted avg       0.94      0.94      0.94      1250\n",
      "\n",
      "0.9392\n"
     ]
    },
    {
     "name": "stderr",
     "output_type": "stream",
     "text": [
      "/home/purp/anaconda3/envs/dataset_COMPETICAO/lib/python3.9/site-packages/sklearn/utils/deprecation.py:87: FutureWarning: Function plot_confusion_matrix is deprecated; Function `plot_confusion_matrix` is deprecated in 1.0 and will be removed in 1.2. Use one of the class methods: ConfusionMatrixDisplay.from_predictions or ConfusionMatrixDisplay.from_estimator.\n",
      "  warnings.warn(msg, category=FutureWarning)\n"
     ]
    },
    {
     "data": {
      "image/png": "[encoded data removed]",
      "text/plain": [
       "<Figure size 640x480 with 2 Axes>"
      ]
     },
     "metadata": {},
     "output_type": "display_data"
    }
   ],
   "source": [
    "lgb_model_norm = LGBMClassifier(boosting_type='gbdt', learning_rate=0.1, n_estimators=100, random_state=42)\n",
    "lgb_model_norm.fit(X_train, y_train)\n",
    "lgb_pred_norm = lgb_model_norm.predict(X_test)\n",
    "print(classification_report(y_test,lgb_pred_norm))\n",
    "plot_confusion_matrix(lgb_model_norm,X_test,y_test)\n",
    "plt.show\n",
    "print(accuracy_score(y_test, lgb_pred_norm))"
   ]
  },
  {
   "attachments": {},
   "cell_type": "markdown",
   "metadata": {},
   "source": [
    "Piorou."
   ]
  },
  {
   "attachments": {},
   "cell_type": "markdown",
   "metadata": {},
   "source": [
    "#### Avaliação com Cross-Validation"
   ]
  },
  {
   "cell_type": "code",
   "execution_count": 57,
   "metadata": {},
   "outputs": [
    {
     "name": "stdout",
     "output_type": "stream",
     "text": [
      "Mean accuracy: 0.94\n",
      "Standard deviation: 0.00\n"
     ]
    }
   ],
   "source": [
    "# Perform 5-fold cross-validation\n",
    "scores = cross_val_score(lgb_model, x_media, y_media, cv=5, scoring='accuracy')\n",
    "\n",
    "# Print the mean and standard deviation of the scores\n",
    "print(f'Mean accuracy: {scores.mean():.2f}')\n",
    "print(f'Standard deviation: {scores.std():.2f}')"
   ]
  },
  {
   "cell_type": "code",
   "execution_count": 61,
   "metadata": {},
   "outputs": [],
   "source": [
    "y_pred_test = lgb_model.predict(teste_transformed)"
   ]
  },
  {
   "cell_type": "code",
   "execution_count": 62,
   "metadata": {},
   "outputs": [
    {
     "name": "stdout",
     "output_type": "stream",
     "text": [
      "Exported.\n"
     ]
    }
   ],
   "source": [
    "gerar_submissao(y_pred_test)"
   ]
  },
  {
   "cell_type": "code",
   "execution_count": 63,
   "metadata": {},
   "outputs": [],
   "source": [
    "incidentes_media.to_csv(\"../input/train_data_outliers_cleaned.csv\")\n",
    "teste_transformed.to_csv(\"../input/test_data_outliers_cleaned.csv\")"
   ]
  },
  {
   "attachments": {},
   "cell_type": "markdown",
   "metadata": {},
   "source": [
    "Vamos, então, realizar, o tuning do modelo.\n",
    "\n",
    "Seguir para o notebook 5.1"
   ]
  }
 ],
 "metadata": {
  "kernelspec": {
   "display_name": "dataset_COMPETICAO",
   "language": "python",
   "name": "python3"
  },
  "language_info": {
   "codemirror_mode": {
    "name": "ipython",
    "version": 3
   },
   "file_extension": ".py",
   "mimetype": "text/x-python",
   "name": "python",
   "nbconvert_exporter": "python",
   "pygments_lexer": "ipython3",
   "version": "3.9.15 (main, Nov 24 2022, 14:31:59) \n[GCC 11.2.0]"
  },
  "orig_nbformat": 4,
  "vscode": {
   "interpreter": {
    "hash": "af40022f6b24da7d0ec2d2ff3772b63b87a9d2e288a5206d322010ec73befb1d"
   }
  }
 },
 "nbformat": 4,
 "nbformat_minor": 2
}
