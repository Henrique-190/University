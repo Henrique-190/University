{
 "cells": [
  {
   "attachments": {},
   "cell_type": "markdown",
   "metadata": {},
   "source": [
    "# Modelo 1 - RF - Processamento individual\n",
    "1. Verificou-se que o melhor desempenho era com: Remoção de outliers de features (tenham elas skewness ou não);\n",
    "2. Vamos experimentar mais feature selection, de acordo com o feedback de get_importances do RF;\n",
    "3. Vamos experimentar normalização, apesar de este algoritmo já possuir alguma."
   ]
  },
  {
   "cell_type": "code",
   "execution_count": 30,
   "metadata": {},
   "outputs": [],
   "source": [
    "import re\n",
    "from collections import Counter\n",
    "import sklearn as skl\n",
    "import pandas as pd\n",
    "import numpy as np\n",
    "import matplotlib.pyplot as plt\n",
    "%matplotlib inline\n",
    "import seaborn as sns\n",
    "from sklearn import preprocessing\n",
    "from sklearn.model_selection import cross_val_score\n",
    "from sklearn.model_selection import train_test_split\n",
    "from sklearn import metrics\n",
    "from sklearn.svm import SVC\n",
    "from sklearn.metrics import classification_report,plot_confusion_matrix, accuracy_score, precision_score, recall_score\n",
    "from lightgbm import LGBMClassifier\n",
    "from sklearn.tree import DecisionTreeClassifier\n",
    "from sklearn.ensemble import RandomForestClassifier\n",
    "from sklearn.ensemble import GradientBoostingClassifier\n",
    "from sklearn.ensemble import ExtraTreesClassifier\n",
    "from sklearn.neighbors import KNeighborsClassifier\n",
    "from sklearn.preprocessing import MinMaxScaler\n",
    "from sklearn.feature_selection import SelectFromModel\n",
    "from sklearn.model_selection import learning_curve\n",
    "import warnings\n",
    "warnings.filterwarnings(\"ignore\")"
   ]
  },
  {
   "cell_type": "code",
   "execution_count": 31,
   "metadata": {},
   "outputs": [],
   "source": [
    "incidentes = pd.read_csv(\"../input/train_data_cleaned.csv\", index_col=0)\n",
    "teste = pd.read_csv(\"../input/test_data_cleaned.csv\", index_col=0)"
   ]
  },
  {
   "attachments": {},
   "cell_type": "markdown",
   "metadata": {},
   "source": [
    "## Modelo"
   ]
  },
  {
   "cell_type": "code",
   "execution_count": 32,
   "metadata": {},
   "outputs": [],
   "source": [
    "#divisão do target\n",
    "x= incidentes.drop(['incidents'], axis=1)\n",
    "y= incidentes['incidents']"
   ]
  },
  {
   "cell_type": "code",
   "execution_count": 33,
   "metadata": {},
   "outputs": [],
   "source": [
    "X_train, X_test, y_train, y_test = train_test_split(x, y, test_size=0.25, random_state=42)"
   ]
  },
  {
   "cell_type": "code",
   "execution_count": 34,
   "metadata": {},
   "outputs": [
    {
     "name": "stdout",
     "output_type": "stream",
     "text": [
      "              precision    recall  f1-score   support\n",
      "\n",
      "           0       0.99      0.99      0.99       517\n",
      "           1       0.87      0.91      0.89       189\n",
      "           2       0.85      0.83      0.84       144\n",
      "           3       0.93      0.87      0.90       265\n",
      "           4       0.89      0.95      0.92       135\n",
      "\n",
      "    accuracy                           0.93      1250\n",
      "   macro avg       0.90      0.91      0.91      1250\n",
      "weighted avg       0.93      0.93      0.93      1250\n",
      "\n",
      "0.9296\n"
     ]
    },
    {
     "data": {
      "image/png": "[encoded data removed]",
      "text/plain": [
       "<Figure size 640x480 with 2 Axes>"
      ]
     },
     "metadata": {},
     "output_type": "display_data"
    }
   ],
   "source": [
    "rf_model = RandomForestClassifier(n_estimators=100, max_features=\"auto\", random_state=42)\n",
    "rf_model.fit(X_train, y_train)\n",
    "rf_pred = rf_model.predict(X_test)\n",
    "print(classification_report(y_test,rf_pred))\n",
    "plot_confusion_matrix(rf_model,X_test,y_test)\n",
    "plt.show\n",
    "print(accuracy_score(y_test, rf_pred))"
   ]
  },
  {
   "cell_type": "code",
   "execution_count": 35,
   "metadata": {},
   "outputs": [],
   "source": [
    "# gera o dataset a submeter na competição\n",
    "def gerar_submissao(predictions):\n",
    "    #gerar submissão\n",
    "    submission = pd.DataFrame(predictions, columns = [\"Incidents\"])\n",
    "    submission.insert(0, \"RowId\", range(1,1207), True)\n",
    "    submission[\"Incidents\"] = submission['Incidents'].replace({0 : 'None', 1 : 'Low', 2 : 'Medium', 3 : 'High', 4 : 'Very_High'}).astype(str)\n",
    "    submission.to_csv('../output/submission.csv',index=False)\n",
    "    print(\"Exported.\")"
   ]
  },
  {
   "cell_type": "code",
   "execution_count": 36,
   "metadata": {},
   "outputs": [],
   "source": [
    "#test_pred = rf_model.predict(teste)\n",
    "#gerar_submissao(test_pred)"
   ]
  },
  {
   "attachments": {},
   "cell_type": "markdown",
   "metadata": {},
   "source": [
    "## 1. Normalização - (0,1)"
   ]
  },
  {
   "attachments": {},
   "cell_type": "markdown",
   "metadata": {},
   "source": [
    "\n",
    "* Pretendemos fazer Feature Selection, apesar de, intuitivamente já termos feito algum;\n",
    "* Vamos explorar os diferentes métodos conhecidos de normalização, relevante ser feita antes de feature selection, até porque, um dos métodos mais conhecidos, utiliza algoritmos que funcionam melhor com dados normalizados;\n",
    "* Então, nesta secção, trata-se apenas normalização;\n",
    "* Dado que o tratamento de outliers não apresentou melhorias em termos de previsão, descartamos esse tratamento e voltamos ao tratamento anterior, com presença de outliers. A boa notícia é a existência de formas de normalização que acabam por reduzir o impacto destes outliers, o que pode melhorar o desempenho do modelo (como é o caso da transformação logarítmica, como veremos);\n",
    "* A ideia é, então, observar cada feature antes e depois desta normalização, percebendo como cada tipo funciona e se contribui ou não para obtenção de melhores métricas;\n",
    "* De forma resumida existem 3 tipos de normalização [1]:\n",
    "    * Normalizar num intervalo, normalmente entre 0 e 1;\n",
    "        * Resulta bem com:\n",
    "            * Distribuição normal de dados;\n",
    "            * Há intuitivamente uma barreira superior/inferior nos dados;\n",
    "    * Feature Clipping, que remove todos os valores abaixo/acima de um intervalo;\n",
    "        * Resulta bem com:\n",
    "            * Existência de muitos outliers extremos (selecionar o intervalo de acordo com os outliers);\n",
    "            * Pode ser aplicada antes ou depois de outras normalizações;\n",
    "    * Transformação Log., transforma os valores no seu logaritmo;        \n",
    "        * Resulta bem com:\n",
    "            * Distribuição não normal de dados (skewness);\n",
    "            * Há muitas ocorrências de uma certa classe e poucas de outra;\n",
    "\n",
    "[1] https://developers.google.com/machine-learning/data-prep/transform/normalization"
   ]
  },
  {
   "cell_type": "code",
   "execution_count": 37,
   "metadata": {},
   "outputs": [
    {
     "data": {
      "text/html": [
       "<div>\n",
       "<style scoped>\n",
       "    .dataframe tbody tr th:only-of-type {\n",
       "        vertical-align: middle;\n",
       "    }\n",
       "\n",
       "    .dataframe tbody tr th {\n",
       "        vertical-align: top;\n",
       "    }\n",
       "\n",
       "    .dataframe thead th {\n",
       "        text-align: right;\n",
       "    }\n",
       "</style>\n",
       "<table border=\"1\" class=\"dataframe\">\n",
       "  <thead>\n",
       "    <tr style=\"text-align: right;\">\n",
       "      <th></th>\n",
       "      <th>magnitude_of_delay</th>\n",
       "      <th>delay_in_seconds</th>\n",
       "      <th>luminosity</th>\n",
       "      <th>avg_temperature</th>\n",
       "      <th>avg_atm_pressure</th>\n",
       "      <th>avg_humidity</th>\n",
       "      <th>avg_wind_speed</th>\n",
       "      <th>avg_rain</th>\n",
       "      <th>incidents</th>\n",
       "      <th>National</th>\n",
       "      <th>Regional</th>\n",
       "      <th>day_of_month</th>\n",
       "      <th>week_day</th>\n",
       "      <th>month</th>\n",
       "      <th>hour</th>\n",
       "      <th>day_of_year</th>\n",
       "      <th>season</th>\n",
       "      <th>is_holiday</th>\n",
       "      <th>is_weekend</th>\n",
       "    </tr>\n",
       "  </thead>\n",
       "  <tbody>\n",
       "    <tr>\n",
       "      <th>0</th>\n",
       "      <td>0</td>\n",
       "      <td>0</td>\n",
       "      <td>0</td>\n",
       "      <td>12.0</td>\n",
       "      <td>1013.0</td>\n",
       "      <td>70.0</td>\n",
       "      <td>1.0</td>\n",
       "      <td>0</td>\n",
       "      <td>0</td>\n",
       "      <td>0</td>\n",
       "      <td>0</td>\n",
       "      <td>15</td>\n",
       "      <td>0</td>\n",
       "      <td>3</td>\n",
       "      <td>23</td>\n",
       "      <td>74</td>\n",
       "      <td>0</td>\n",
       "      <td>0</td>\n",
       "      <td>1</td>\n",
       "    </tr>\n",
       "    <tr>\n",
       "      <th>1</th>\n",
       "      <td>0</td>\n",
       "      <td>385</td>\n",
       "      <td>0</td>\n",
       "      <td>12.0</td>\n",
       "      <td>1007.0</td>\n",
       "      <td>91.0</td>\n",
       "      <td>1.0</td>\n",
       "      <td>0</td>\n",
       "      <td>0</td>\n",
       "      <td>1</td>\n",
       "      <td>0</td>\n",
       "      <td>25</td>\n",
       "      <td>5</td>\n",
       "      <td>12</td>\n",
       "      <td>18</td>\n",
       "      <td>359</td>\n",
       "      <td>3</td>\n",
       "      <td>1</td>\n",
       "      <td>1</td>\n",
       "    </tr>\n",
       "    <tr>\n",
       "      <th>2</th>\n",
       "      <td>0</td>\n",
       "      <td>69</td>\n",
       "      <td>2</td>\n",
       "      <td>14.0</td>\n",
       "      <td>1025.0</td>\n",
       "      <td>64.0</td>\n",
       "      <td>0.0</td>\n",
       "      <td>0</td>\n",
       "      <td>1</td>\n",
       "      <td>0</td>\n",
       "      <td>0</td>\n",
       "      <td>12</td>\n",
       "      <td>4</td>\n",
       "      <td>3</td>\n",
       "      <td>15</td>\n",
       "      <td>71</td>\n",
       "      <td>0</td>\n",
       "      <td>0</td>\n",
       "      <td>1</td>\n",
       "    </tr>\n",
       "    <tr>\n",
       "      <th>3</th>\n",
       "      <td>2</td>\n",
       "      <td>2297</td>\n",
       "      <td>2</td>\n",
       "      <td>15.0</td>\n",
       "      <td>1028.0</td>\n",
       "      <td>75.0</td>\n",
       "      <td>1.0</td>\n",
       "      <td>0</td>\n",
       "      <td>4</td>\n",
       "      <td>10</td>\n",
       "      <td>1</td>\n",
       "      <td>29</td>\n",
       "      <td>2</td>\n",
       "      <td>9</td>\n",
       "      <td>9</td>\n",
       "      <td>272</td>\n",
       "      <td>3</td>\n",
       "      <td>0</td>\n",
       "      <td>1</td>\n",
       "    </tr>\n",
       "    <tr>\n",
       "      <th>4</th>\n",
       "      <td>0</td>\n",
       "      <td>0</td>\n",
       "      <td>2</td>\n",
       "      <td>27.0</td>\n",
       "      <td>1020.0</td>\n",
       "      <td>52.0</td>\n",
       "      <td>1.0</td>\n",
       "      <td>0</td>\n",
       "      <td>3</td>\n",
       "      <td>5</td>\n",
       "      <td>0</td>\n",
       "      <td>13</td>\n",
       "      <td>6</td>\n",
       "      <td>6</td>\n",
       "      <td>11</td>\n",
       "      <td>164</td>\n",
       "      <td>1</td>\n",
       "      <td>0</td>\n",
       "      <td>1</td>\n",
       "    </tr>\n",
       "  </tbody>\n",
       "</table>\n",
       "</div>"
      ],
      "text/plain": [
       "   magnitude_of_delay  delay_in_seconds  luminosity  avg_temperature  \\\n",
       "0                   0                 0           0             12.0   \n",
       "1                   0               385           0             12.0   \n",
       "2                   0                69           2             14.0   \n",
       "3                   2              2297           2             15.0   \n",
       "4                   0                 0           2             27.0   \n",
       "\n",
       "   avg_atm_pressure  avg_humidity  avg_wind_speed  avg_rain  incidents  \\\n",
       "0            1013.0          70.0             1.0         0          0   \n",
       "1            1007.0          91.0             1.0         0          0   \n",
       "2            1025.0          64.0             0.0         0          1   \n",
       "3            1028.0          75.0             1.0         0          4   \n",
       "4            1020.0          52.0             1.0         0          3   \n",
       "\n",
       "   National  Regional  day_of_month  week_day  month  hour  day_of_year  \\\n",
       "0         0         0            15         0      3    23           74   \n",
       "1         1         0            25         5     12    18          359   \n",
       "2         0         0            12         4      3    15           71   \n",
       "3        10         1            29         2      9     9          272   \n",
       "4         5         0            13         6      6    11          164   \n",
       "\n",
       "   season  is_holiday  is_weekend  \n",
       "0       0           0           1  \n",
       "1       3           1           1  \n",
       "2       0           0           1  \n",
       "3       3           0           1  \n",
       "4       1           0           1  "
      ]
     },
     "execution_count": 37,
     "metadata": {},
     "output_type": "execute_result"
    }
   ],
   "source": [
    "incidentes.head()"
   ]
  },
  {
   "cell_type": "code",
   "execution_count": 38,
   "metadata": {},
   "outputs": [
    {
     "data": {
      "text/html": [
       "<div>\n",
       "<style scoped>\n",
       "    .dataframe tbody tr th:only-of-type {\n",
       "        vertical-align: middle;\n",
       "    }\n",
       "\n",
       "    .dataframe tbody tr th {\n",
       "        vertical-align: top;\n",
       "    }\n",
       "\n",
       "    .dataframe thead th {\n",
       "        text-align: right;\n",
       "    }\n",
       "</style>\n",
       "<table border=\"1\" class=\"dataframe\">\n",
       "  <thead>\n",
       "    <tr style=\"text-align: right;\">\n",
       "      <th></th>\n",
       "      <th>magnitude_of_delay</th>\n",
       "      <th>delay_in_seconds</th>\n",
       "      <th>luminosity</th>\n",
       "      <th>avg_temperature</th>\n",
       "      <th>avg_atm_pressure</th>\n",
       "      <th>avg_humidity</th>\n",
       "      <th>avg_wind_speed</th>\n",
       "      <th>avg_rain</th>\n",
       "      <th>National</th>\n",
       "      <th>Regional</th>\n",
       "      <th>day_of_month</th>\n",
       "      <th>week_day</th>\n",
       "      <th>month</th>\n",
       "      <th>hour</th>\n",
       "      <th>day_of_year</th>\n",
       "      <th>season</th>\n",
       "      <th>is_holiday</th>\n",
       "      <th>is_weekend</th>\n",
       "    </tr>\n",
       "  </thead>\n",
       "  <tbody>\n",
       "    <tr>\n",
       "      <th>0</th>\n",
       "      <td>0</td>\n",
       "      <td>1211</td>\n",
       "      <td>2</td>\n",
       "      <td>15.0</td>\n",
       "      <td>1018.0</td>\n",
       "      <td>80.0</td>\n",
       "      <td>0.0</td>\n",
       "      <td>0</td>\n",
       "      <td>6.0</td>\n",
       "      <td>0.0</td>\n",
       "      <td>13</td>\n",
       "      <td>1</td>\n",
       "      <td>4</td>\n",
       "      <td>19</td>\n",
       "      <td>103</td>\n",
       "      <td>0</td>\n",
       "      <td>0</td>\n",
       "      <td>1</td>\n",
       "    </tr>\n",
       "    <tr>\n",
       "      <th>1</th>\n",
       "      <td>0</td>\n",
       "      <td>0</td>\n",
       "      <td>0</td>\n",
       "      <td>16.0</td>\n",
       "      <td>1018.0</td>\n",
       "      <td>41.0</td>\n",
       "      <td>2.0</td>\n",
       "      <td>0</td>\n",
       "      <td>5.0</td>\n",
       "      <td>0.0</td>\n",
       "      <td>13</td>\n",
       "      <td>2</td>\n",
       "      <td>10</td>\n",
       "      <td>4</td>\n",
       "      <td>286</td>\n",
       "      <td>2</td>\n",
       "      <td>0</td>\n",
       "      <td>1</td>\n",
       "    </tr>\n",
       "    <tr>\n",
       "      <th>2</th>\n",
       "      <td>0</td>\n",
       "      <td>0</td>\n",
       "      <td>2</td>\n",
       "      <td>22.0</td>\n",
       "      <td>1017.0</td>\n",
       "      <td>71.0</td>\n",
       "      <td>0.0</td>\n",
       "      <td>0</td>\n",
       "      <td>5.0</td>\n",
       "      <td>0.0</td>\n",
       "      <td>18</td>\n",
       "      <td>6</td>\n",
       "      <td>7</td>\n",
       "      <td>19</td>\n",
       "      <td>199</td>\n",
       "      <td>1</td>\n",
       "      <td>0</td>\n",
       "      <td>1</td>\n",
       "    </tr>\n",
       "    <tr>\n",
       "      <th>3</th>\n",
       "      <td>0</td>\n",
       "      <td>140</td>\n",
       "      <td>2</td>\n",
       "      <td>18.0</td>\n",
       "      <td>1008.0</td>\n",
       "      <td>81.0</td>\n",
       "      <td>3.0</td>\n",
       "      <td>0</td>\n",
       "      <td>5.0</td>\n",
       "      <td>1.0</td>\n",
       "      <td>30</td>\n",
       "      <td>5</td>\n",
       "      <td>10</td>\n",
       "      <td>15</td>\n",
       "      <td>303</td>\n",
       "      <td>3</td>\n",
       "      <td>0</td>\n",
       "      <td>1</td>\n",
       "    </tr>\n",
       "    <tr>\n",
       "      <th>4</th>\n",
       "      <td>0</td>\n",
       "      <td>0</td>\n",
       "      <td>2</td>\n",
       "      <td>20.0</td>\n",
       "      <td>1022.0</td>\n",
       "      <td>86.0</td>\n",
       "      <td>0.0</td>\n",
       "      <td>0</td>\n",
       "      <td>5.0</td>\n",
       "      <td>0.0</td>\n",
       "      <td>18</td>\n",
       "      <td>0</td>\n",
       "      <td>10</td>\n",
       "      <td>10</td>\n",
       "      <td>291</td>\n",
       "      <td>2</td>\n",
       "      <td>0</td>\n",
       "      <td>1</td>\n",
       "    </tr>\n",
       "  </tbody>\n",
       "</table>\n",
       "</div>"
      ],
      "text/plain": [
       "   magnitude_of_delay  delay_in_seconds  luminosity  avg_temperature  \\\n",
       "0                   0              1211           2             15.0   \n",
       "1                   0                 0           0             16.0   \n",
       "2                   0                 0           2             22.0   \n",
       "3                   0               140           2             18.0   \n",
       "4                   0                 0           2             20.0   \n",
       "\n",
       "   avg_atm_pressure  avg_humidity  avg_wind_speed  avg_rain  National  \\\n",
       "0            1018.0          80.0             0.0         0       6.0   \n",
       "1            1018.0          41.0             2.0         0       5.0   \n",
       "2            1017.0          71.0             0.0         0       5.0   \n",
       "3            1008.0          81.0             3.0         0       5.0   \n",
       "4            1022.0          86.0             0.0         0       5.0   \n",
       "\n",
       "   Regional  day_of_month  week_day  month  hour  day_of_year  season  \\\n",
       "0       0.0            13         1      4    19          103       0   \n",
       "1       0.0            13         2     10     4          286       2   \n",
       "2       0.0            18         6      7    19          199       1   \n",
       "3       1.0            30         5     10    15          303       3   \n",
       "4       0.0            18         0     10    10          291       2   \n",
       "\n",
       "   is_holiday  is_weekend  \n",
       "0           0           1  \n",
       "1           0           1  \n",
       "2           0           1  \n",
       "3           0           1  \n",
       "4           0           1  "
      ]
     },
     "execution_count": 38,
     "metadata": {},
     "output_type": "execute_result"
    }
   ],
   "source": [
    "teste.head()"
   ]
  },
  {
   "cell_type": "code",
   "execution_count": 39,
   "metadata": {},
   "outputs": [
    {
     "name": "stdout",
     "output_type": "stream",
     "text": [
      "['magnitude_of_delay', 'delay_in_seconds', 'luminosity', 'avg_temperature', 'avg_atm_pressure', 'avg_humidity', 'avg_wind_speed', 'avg_rain', 'National', 'Regional', 'day_of_month', 'week_day', 'month', 'hour', 'day_of_year', 'season', 'is_holiday', 'is_weekend']\n"
     ]
    }
   ],
   "source": [
    "dict_scalers = {}\n",
    "\n",
    "scaler = MinMaxScaler()\n",
    "min_max_scaler = preprocessing.MinMaxScaler(feature_range=(0,1))\n",
    "\n",
    "incidentes_norm = incidentes.copy()\n",
    "teste_norm = teste.copy()\n",
    "columns = list(incidentes_norm.columns)\n",
    "columns.remove('incidents')\n",
    "print(columns)\n",
    "\n",
    "# fazemos o fit, guardamos o scaler da coluna, aplicamos ao teste\n",
    "# assim podemos fazer o inverse_transform se necessário, depois.\n",
    "for col in columns:\n",
    "    # fit\n",
    "    scaler_col = min_max_scaler.fit(incidentes_norm[[col]])\n",
    "    # transform\n",
    "    incidentes_norm[[col]] = min_max_scaler.transform(incidentes_norm[[col]])\n",
    "    # guardar scaler no dict\n",
    "    dict_scalers[col] = scaler_col\n",
    "    teste_norm[[col]] = dict_scalers.get(col).transform(teste_norm[[col]])"
   ]
  },
  {
   "cell_type": "code",
   "execution_count": 40,
   "metadata": {},
   "outputs": [
    {
     "data": {
      "text/html": [
       "<div>\n",
       "<style scoped>\n",
       "    .dataframe tbody tr th:only-of-type {\n",
       "        vertical-align: middle;\n",
       "    }\n",
       "\n",
       "    .dataframe tbody tr th {\n",
       "        vertical-align: top;\n",
       "    }\n",
       "\n",
       "    .dataframe thead th {\n",
       "        text-align: right;\n",
       "    }\n",
       "</style>\n",
       "<table border=\"1\" class=\"dataframe\">\n",
       "  <thead>\n",
       "    <tr style=\"text-align: right;\">\n",
       "      <th></th>\n",
       "      <th>magnitude_of_delay</th>\n",
       "      <th>delay_in_seconds</th>\n",
       "      <th>luminosity</th>\n",
       "      <th>avg_temperature</th>\n",
       "      <th>avg_atm_pressure</th>\n",
       "      <th>avg_humidity</th>\n",
       "      <th>avg_wind_speed</th>\n",
       "      <th>avg_rain</th>\n",
       "      <th>incidents</th>\n",
       "      <th>National</th>\n",
       "      <th>Regional</th>\n",
       "      <th>day_of_month</th>\n",
       "      <th>week_day</th>\n",
       "      <th>month</th>\n",
       "      <th>hour</th>\n",
       "      <th>day_of_year</th>\n",
       "      <th>season</th>\n",
       "      <th>is_holiday</th>\n",
       "      <th>is_weekend</th>\n",
       "    </tr>\n",
       "  </thead>\n",
       "  <tbody>\n",
       "    <tr>\n",
       "      <th>0</th>\n",
       "      <td>0.0</td>\n",
       "      <td>0.000000</td>\n",
       "      <td>0.0</td>\n",
       "      <td>0.323529</td>\n",
       "      <td>0.457143</td>\n",
       "      <td>0.680851</td>\n",
       "      <td>0.1</td>\n",
       "      <td>0.0</td>\n",
       "      <td>0</td>\n",
       "      <td>0.000000</td>\n",
       "      <td>0.000000</td>\n",
       "      <td>0.466667</td>\n",
       "      <td>0.000000</td>\n",
       "      <td>0.181818</td>\n",
       "      <td>1.000000</td>\n",
       "      <td>0.166189</td>\n",
       "      <td>0.000000</td>\n",
       "      <td>0.0</td>\n",
       "      <td>0.0</td>\n",
       "    </tr>\n",
       "    <tr>\n",
       "      <th>1</th>\n",
       "      <td>0.0</td>\n",
       "      <td>0.012386</td>\n",
       "      <td>0.0</td>\n",
       "      <td>0.323529</td>\n",
       "      <td>0.285714</td>\n",
       "      <td>0.904255</td>\n",
       "      <td>0.1</td>\n",
       "      <td>0.0</td>\n",
       "      <td>0</td>\n",
       "      <td>0.023810</td>\n",
       "      <td>0.000000</td>\n",
       "      <td>0.800000</td>\n",
       "      <td>0.833333</td>\n",
       "      <td>1.000000</td>\n",
       "      <td>0.782609</td>\n",
       "      <td>0.982808</td>\n",
       "      <td>1.000000</td>\n",
       "      <td>1.0</td>\n",
       "      <td>0.0</td>\n",
       "    </tr>\n",
       "    <tr>\n",
       "      <th>2</th>\n",
       "      <td>0.0</td>\n",
       "      <td>0.002220</td>\n",
       "      <td>1.0</td>\n",
       "      <td>0.382353</td>\n",
       "      <td>0.800000</td>\n",
       "      <td>0.617021</td>\n",
       "      <td>0.0</td>\n",
       "      <td>0.0</td>\n",
       "      <td>1</td>\n",
       "      <td>0.000000</td>\n",
       "      <td>0.000000</td>\n",
       "      <td>0.366667</td>\n",
       "      <td>0.666667</td>\n",
       "      <td>0.181818</td>\n",
       "      <td>0.652174</td>\n",
       "      <td>0.157593</td>\n",
       "      <td>0.000000</td>\n",
       "      <td>0.0</td>\n",
       "      <td>0.0</td>\n",
       "    </tr>\n",
       "    <tr>\n",
       "      <th>3</th>\n",
       "      <td>1.0</td>\n",
       "      <td>0.073899</td>\n",
       "      <td>1.0</td>\n",
       "      <td>0.411765</td>\n",
       "      <td>0.885714</td>\n",
       "      <td>0.734043</td>\n",
       "      <td>0.1</td>\n",
       "      <td>0.0</td>\n",
       "      <td>4</td>\n",
       "      <td>0.238095</td>\n",
       "      <td>0.166667</td>\n",
       "      <td>0.933333</td>\n",
       "      <td>0.333333</td>\n",
       "      <td>0.727273</td>\n",
       "      <td>0.391304</td>\n",
       "      <td>0.733524</td>\n",
       "      <td>1.000000</td>\n",
       "      <td>0.0</td>\n",
       "      <td>0.0</td>\n",
       "    </tr>\n",
       "    <tr>\n",
       "      <th>4</th>\n",
       "      <td>0.0</td>\n",
       "      <td>0.000000</td>\n",
       "      <td>1.0</td>\n",
       "      <td>0.764706</td>\n",
       "      <td>0.657143</td>\n",
       "      <td>0.489362</td>\n",
       "      <td>0.1</td>\n",
       "      <td>0.0</td>\n",
       "      <td>3</td>\n",
       "      <td>0.119048</td>\n",
       "      <td>0.000000</td>\n",
       "      <td>0.400000</td>\n",
       "      <td>1.000000</td>\n",
       "      <td>0.454545</td>\n",
       "      <td>0.478261</td>\n",
       "      <td>0.424069</td>\n",
       "      <td>0.333333</td>\n",
       "      <td>0.0</td>\n",
       "      <td>0.0</td>\n",
       "    </tr>\n",
       "  </tbody>\n",
       "</table>\n",
       "</div>"
      ],
      "text/plain": [
       "   magnitude_of_delay  delay_in_seconds  luminosity  avg_temperature  \\\n",
       "0                 0.0          0.000000         0.0         0.323529   \n",
       "1                 0.0          0.012386         0.0         0.323529   \n",
       "2                 0.0          0.002220         1.0         0.382353   \n",
       "3                 1.0          0.073899         1.0         0.411765   \n",
       "4                 0.0          0.000000         1.0         0.764706   \n",
       "\n",
       "   avg_atm_pressure  avg_humidity  avg_wind_speed  avg_rain  incidents  \\\n",
       "0          0.457143      0.680851             0.1       0.0          0   \n",
       "1          0.285714      0.904255             0.1       0.0          0   \n",
       "2          0.800000      0.617021             0.0       0.0          1   \n",
       "3          0.885714      0.734043             0.1       0.0          4   \n",
       "4          0.657143      0.489362             0.1       0.0          3   \n",
       "\n",
       "   National  Regional  day_of_month  week_day     month      hour  \\\n",
       "0  0.000000  0.000000      0.466667  0.000000  0.181818  1.000000   \n",
       "1  0.023810  0.000000      0.800000  0.833333  1.000000  0.782609   \n",
       "2  0.000000  0.000000      0.366667  0.666667  0.181818  0.652174   \n",
       "3  0.238095  0.166667      0.933333  0.333333  0.727273  0.391304   \n",
       "4  0.119048  0.000000      0.400000  1.000000  0.454545  0.478261   \n",
       "\n",
       "   day_of_year    season  is_holiday  is_weekend  \n",
       "0     0.166189  0.000000         0.0         0.0  \n",
       "1     0.982808  1.000000         1.0         0.0  \n",
       "2     0.157593  0.000000         0.0         0.0  \n",
       "3     0.733524  1.000000         0.0         0.0  \n",
       "4     0.424069  0.333333         0.0         0.0  "
      ]
     },
     "execution_count": 40,
     "metadata": {},
     "output_type": "execute_result"
    }
   ],
   "source": [
    "incidentes_norm.head()"
   ]
  },
  {
   "attachments": {},
   "cell_type": "markdown",
   "metadata": {},
   "source": [
    "### Segunda avaliação do modelo com normalização"
   ]
  },
  {
   "cell_type": "code",
   "execution_count": 41,
   "metadata": {},
   "outputs": [],
   "source": [
    "#divisão do target\n",
    "x_norm = incidentes_norm.drop(['incidents'], axis=1)\n",
    "y_norm = incidentes_norm['incidents']"
   ]
  },
  {
   "cell_type": "code",
   "execution_count": 42,
   "metadata": {},
   "outputs": [],
   "source": [
    "X_train, X_test, y_train, y_test = train_test_split(x_norm, y_norm, test_size=0.25, random_state=42)"
   ]
  },
  {
   "cell_type": "code",
   "execution_count": 43,
   "metadata": {},
   "outputs": [
    {
     "name": "stdout",
     "output_type": "stream",
     "text": [
      "              precision    recall  f1-score   support\n",
      "\n",
      "           0       0.99      0.99      0.99       517\n",
      "           1       0.87      0.90      0.89       189\n",
      "           2       0.84      0.82      0.83       144\n",
      "           3       0.92      0.87      0.90       265\n",
      "           4       0.88      0.94      0.91       135\n",
      "\n",
      "    accuracy                           0.93      1250\n",
      "   macro avg       0.90      0.91      0.90      1250\n",
      "weighted avg       0.93      0.93      0.93      1250\n",
      "\n",
      "0.9272\n"
     ]
    },
    {
     "data": {
      "image/png": "[encoded data removed]",
      "text/plain": [
       "<Figure size 640x480 with 2 Axes>"
      ]
     },
     "metadata": {},
     "output_type": "display_data"
    }
   ],
   "source": [
    "rf_model_norm = RandomForestClassifier(n_estimators=100, max_features=\"auto\", random_state=42)\n",
    "rf_model_norm.fit(X_train, y_train)\n",
    "rf_pred = rf_model_norm.predict(X_test)\n",
    "print(classification_report(y_test,rf_pred))\n",
    "plot_confusion_matrix(rf_model_norm,X_test,y_test)\n",
    "plt.show\n",
    "print(accuracy_score(y_test, rf_pred))"
   ]
  },
  {
   "attachments": {},
   "cell_type": "markdown",
   "metadata": {},
   "source": [
    "Como era de esperar."
   ]
  },
  {
   "attachments": {},
   "cell_type": "markdown",
   "metadata": {},
   "source": [
    "#### Avaliação com Cross-Validation"
   ]
  },
  {
   "cell_type": "code",
   "execution_count": 44,
   "metadata": {},
   "outputs": [
    {
     "name": "stdout",
     "output_type": "stream",
     "text": [
      "Mean accuracy: 0.93\n",
      "Standard deviation: 0.01\n"
     ]
    }
   ],
   "source": [
    "# Perform 5-fold cross-validation\n",
    "scores = cross_val_score(rf_model, x, y, cv=5, scoring='accuracy')\n",
    "\n",
    "# Print the mean and standard deviation of the scores\n",
    "print(f'Mean accuracy: {scores.mean():.2f}')\n",
    "print(f'Standard deviation: {scores.std():.2f}')"
   ]
  },
  {
   "attachments": {},
   "cell_type": "markdown",
   "metadata": {},
   "source": [
    "## 2 - Feature Importance"
   ]
  },
  {
   "cell_type": "code",
   "execution_count": 45,
   "metadata": {},
   "outputs": [],
   "source": [
    "# recebe o modelo e os dados de treino e obtém a importância de cada feature\n",
    "def feature_importance(model, X_train):\n",
    "    # Get feature importances\n",
    "    importances = model.feature_importances_\n",
    "    print(importances)\n",
    "\n",
    "    # Sort feature importances in descending order\n",
    "    indices = np.argsort(importances)[::-1]\n",
    "\n",
    "    # Rearrange feature names so they match the sorted feature importances\n",
    "    names = [X_train.columns[i] for i in indices]\n",
    "\n",
    "    # Create plot\n",
    "    plt.figure()\n",
    "\n",
    "    # Create plot title\n",
    "    plt.title(\"Feature Importance\")\n",
    "\n",
    "    # Add bars\n",
    "    plt.bar(range(X_train.shape[1]), importances[indices])\n",
    "\n",
    "    # Add feature names as x-axis labels\n",
    "    plt.xticks(range(X_train.shape[1]), names, rotation=90)\n",
    "\n",
    "    # Show plot\n",
    "    plt.show()"
   ]
  },
  {
   "cell_type": "code",
   "execution_count": 46,
   "metadata": {},
   "outputs": [
    {
     "name": "stdout",
     "output_type": "stream",
     "text": [
      "[0.02937638 0.20135211 0.01048714 0.03156196 0.03936118 0.03253345\n",
      " 0.01497225 0.00259323 0.14241102 0.00885256 0.07435223 0.02542776\n",
      " 0.12056268 0.02995694 0.19111078 0.04201631 0.00307201 0.        ]\n"
     ]
    },
    {
     "data": {
      "image/png": "[encoded data removed]",
      "text/plain": [
       "<Figure size 640x480 with 1 Axes>"
      ]
     },
     "metadata": {},
     "output_type": "display_data"
    }
   ],
   "source": [
    "feature_importance(rf_model, X_train)"
   ]
  },
  {
   "attachments": {},
   "cell_type": "markdown",
   "metadata": {},
   "source": [
    "Verificamos que as features mais importantwes têm um valor de importância superior a 0.025.\n",
    "Vamos, então, filtrar por este threshold.\n",
    "O modelo que vamos usar é sem normalização, porque é o melhor até agora."
   ]
  },
  {
   "attachments": {},
   "cell_type": "markdown",
   "metadata": {},
   "source": [
    "* th = 0.010"
   ]
  },
  {
   "cell_type": "code",
   "execution_count": 47,
   "metadata": {},
   "outputs": [],
   "source": [
    "# Crie um objeto SelectFromModel com o modelo treinado e um threshold de importância\n",
    "sfm = SelectFromModel(rf_model, threshold=0.010)\n",
    "\n",
    "# Aplique o objeto SelectFromModel ao conjunto de treinamento para selecionar as features mais importantes\n",
    "X_important_train = sfm.transform(X_train)\n",
    "\n",
    "# Aplique o mesmo objeto SelectFromModel ao conjunto de teste para selecionar as mesmas features selecionadas no conjunto de treinamento\n",
    "X_important_test = sfm.transform(X_test)"
   ]
  },
  {
   "cell_type": "code",
   "execution_count": 48,
   "metadata": {},
   "outputs": [
    {
     "name": "stdout",
     "output_type": "stream",
     "text": [
      "Index(['magnitude_of_delay', 'delay_in_seconds', 'luminosity',\n",
      "       'avg_temperature', 'avg_atm_pressure', 'avg_humidity', 'avg_wind_speed',\n",
      "       'National', 'day_of_month', 'week_day', 'month', 'hour', 'day_of_year',\n",
      "       'season'],\n",
      "      dtype='object')\n"
     ]
    }
   ],
   "source": [
    "feature_indices = sfm.get_support(indices=True)\n",
    "feature_names = X_train.columns[feature_indices]\n",
    "print(feature_names)"
   ]
  },
  {
   "cell_type": "code",
   "execution_count": 49,
   "metadata": {},
   "outputs": [
    {
     "name": "stdout",
     "output_type": "stream",
     "text": [
      "              precision    recall  f1-score   support\n",
      "\n",
      "           0       0.99      0.99      0.99       517\n",
      "           1       0.89      0.90      0.90       189\n",
      "           2       0.87      0.85      0.86       144\n",
      "           3       0.93      0.89      0.91       265\n",
      "           4       0.90      0.95      0.92       135\n",
      "\n",
      "    accuracy                           0.94      1250\n",
      "   macro avg       0.91      0.92      0.91      1250\n",
      "weighted avg       0.94      0.94      0.94      1250\n",
      "\n",
      "0.936\n"
     ]
    },
    {
     "data": {
      "image/png": "[encoded data removed]",
      "text/plain": [
       "<Figure size 640x480 with 2 Axes>"
      ]
     },
     "metadata": {},
     "output_type": "display_data"
    }
   ],
   "source": [
    "rf_model_10 = RandomForestClassifier(n_estimators=100, max_features=\"auto\", random_state=42)\n",
    "rf_model_10.fit(X_important_train, y_train)\n",
    "rf_pred_10 = rf_model_10.predict(X_important_test)\n",
    "print(classification_report(y_test,rf_pred_10))\n",
    "plot_confusion_matrix(rf_model_10,X_important_test,y_test)\n",
    "plt.show\n",
    "print(accuracy_score(y_test, rf_pred_10))"
   ]
  },
  {
   "attachments": {},
   "cell_type": "markdown",
   "metadata": {},
   "source": [
    "* th = 0.025"
   ]
  },
  {
   "cell_type": "code",
   "execution_count": 50,
   "metadata": {},
   "outputs": [],
   "source": [
    "# Crie um objeto SelectFromModel com o modelo treinado e um threshold de importância\n",
    "sfm1 = SelectFromModel(rf_model, threshold=0.025)\n",
    "\n",
    "# Aplique o objeto SelectFromModel ao conjunto de treinamento para selecionar as features mais importantes\n",
    "X_important_train = sfm1.transform(X_train)\n",
    "\n",
    "# Aplique o mesmo objeto SelectFromModel ao conjunto de teste para selecionar as mesmas features selecionadas no conjunto de treinamento\n",
    "X_important_test = sfm1.transform(X_test)"
   ]
  },
  {
   "cell_type": "code",
   "execution_count": 51,
   "metadata": {},
   "outputs": [
    {
     "name": "stdout",
     "output_type": "stream",
     "text": [
      "Index(['magnitude_of_delay', 'delay_in_seconds', 'avg_temperature',\n",
      "       'avg_atm_pressure', 'avg_humidity', 'National', 'day_of_month',\n",
      "       'week_day', 'month', 'hour', 'day_of_year', 'season'],\n",
      "      dtype='object')\n"
     ]
    }
   ],
   "source": [
    "feature_indices = sfm1.get_support(indices=True)\n",
    "feature_names = X_train.columns[feature_indices]\n",
    "print(feature_names)"
   ]
  },
  {
   "cell_type": "code",
   "execution_count": 52,
   "metadata": {},
   "outputs": [
    {
     "name": "stdout",
     "output_type": "stream",
     "text": [
      "              precision    recall  f1-score   support\n",
      "\n",
      "           0       0.98      0.99      0.99       517\n",
      "           1       0.90      0.90      0.90       189\n",
      "           2       0.86      0.86      0.86       144\n",
      "           3       0.92      0.88      0.90       265\n",
      "           4       0.88      0.93      0.91       135\n",
      "\n",
      "    accuracy                           0.93      1250\n",
      "   macro avg       0.91      0.91      0.91      1250\n",
      "weighted avg       0.93      0.93      0.93      1250\n",
      "\n",
      "0.932\n"
     ]
    },
    {
     "data": {
      "image/png": "[encoded data removed]",
      "text/plain": [
       "<Figure size 640x480 with 2 Axes>"
      ]
     },
     "metadata": {},
     "output_type": "display_data"
    }
   ],
   "source": [
    "rf_model_25 = RandomForestClassifier(n_estimators=100, max_features=\"auto\", random_state=42)\n",
    "rf_model_25.fit(X_important_train, y_train)\n",
    "rf_pred_25 = rf_model_25.predict(X_important_test)\n",
    "print(classification_report(y_test,rf_pred_25))\n",
    "plot_confusion_matrix(rf_model_25,X_important_test,y_test)\n",
    "plt.show\n",
    "print(accuracy_score(y_test, rf_pred_25))"
   ]
  },
  {
   "attachments": {},
   "cell_type": "markdown",
   "metadata": {},
   "source": [
    "* th = 0.050"
   ]
  },
  {
   "cell_type": "code",
   "execution_count": 53,
   "metadata": {},
   "outputs": [],
   "source": [
    "# Crie um objeto SelectFromModel com o modelo treinado e um threshold de importância\n",
    "sfm2 = SelectFromModel(rf_model, threshold=0.050)\n",
    "\n",
    "# Aplique o objeto SelectFromModel ao conjunto de treinamento para selecionar as features mais importantes\n",
    "X_important_train = sfm2.transform(X_train)\n",
    "\n",
    "# Aplique o mesmo objeto SelectFromModel ao conjunto de teste para selecionar as mesmas features selecionadas no conjunto de treinamento\n",
    "X_important_test = sfm2.transform(X_test)"
   ]
  },
  {
   "cell_type": "code",
   "execution_count": 54,
   "metadata": {},
   "outputs": [
    {
     "name": "stdout",
     "output_type": "stream",
     "text": [
      "Index(['delay_in_seconds', 'National', 'day_of_month', 'month', 'day_of_year'], dtype='object')\n"
     ]
    }
   ],
   "source": [
    "feature_indices = sfm2.get_support(indices=True)\n",
    "feature_names = X_train.columns[feature_indices]\n",
    "print(feature_names)"
   ]
  },
  {
   "cell_type": "code",
   "execution_count": 55,
   "metadata": {},
   "outputs": [
    {
     "name": "stdout",
     "output_type": "stream",
     "text": [
      "              precision    recall  f1-score   support\n",
      "\n",
      "           0       0.98      1.00      0.99       517\n",
      "           1       0.89      0.89      0.89       189\n",
      "           2       0.83      0.83      0.83       144\n",
      "           3       0.93      0.88      0.91       265\n",
      "           4       0.89      0.93      0.91       135\n",
      "\n",
      "    accuracy                           0.93      1250\n",
      "   macro avg       0.91      0.91      0.91      1250\n",
      "weighted avg       0.93      0.93      0.93      1250\n",
      "\n",
      "0.9304\n"
     ]
    },
    {
     "data": {
      "image/png": "[encoded data removed]",
      "text/plain": [
       "<Figure size 640x480 with 2 Axes>"
      ]
     },
     "metadata": {},
     "output_type": "display_data"
    }
   ],
   "source": [
    "rf_model_50 = RandomForestClassifier(n_estimators=100, max_features=\"auto\", random_state=42)\n",
    "rf_model_50.fit(X_important_train, y_train)\n",
    "rf_pred_50 = rf_model_50.predict(X_important_test)\n",
    "print(classification_report(y_test,rf_pred_50))\n",
    "plot_confusion_matrix(rf_model_50,X_important_test,y_test)\n",
    "plt.show\n",
    "print(accuracy_score(y_test, rf_pred_50))"
   ]
  },
  {
   "cell_type": "code",
   "execution_count": 56,
   "metadata": {},
   "outputs": [
    {
     "data": {
      "text/html": [
       "<div>\n",
       "<style scoped>\n",
       "    .dataframe tbody tr th:only-of-type {\n",
       "        vertical-align: middle;\n",
       "    }\n",
       "\n",
       "    .dataframe tbody tr th {\n",
       "        vertical-align: top;\n",
       "    }\n",
       "\n",
       "    .dataframe thead th {\n",
       "        text-align: right;\n",
       "    }\n",
       "</style>\n",
       "<table border=\"1\" class=\"dataframe\">\n",
       "  <thead>\n",
       "    <tr style=\"text-align: right;\">\n",
       "      <th></th>\n",
       "      <th>magnitude_of_delay</th>\n",
       "      <th>delay_in_seconds</th>\n",
       "      <th>luminosity</th>\n",
       "      <th>avg_temperature</th>\n",
       "      <th>avg_atm_pressure</th>\n",
       "      <th>avg_humidity</th>\n",
       "      <th>avg_wind_speed</th>\n",
       "      <th>avg_rain</th>\n",
       "      <th>incidents</th>\n",
       "      <th>National</th>\n",
       "      <th>Regional</th>\n",
       "      <th>day_of_month</th>\n",
       "      <th>week_day</th>\n",
       "      <th>month</th>\n",
       "      <th>hour</th>\n",
       "      <th>day_of_year</th>\n",
       "      <th>season</th>\n",
       "      <th>is_holiday</th>\n",
       "      <th>is_weekend</th>\n",
       "    </tr>\n",
       "  </thead>\n",
       "  <tbody>\n",
       "    <tr>\n",
       "      <th>0</th>\n",
       "      <td>0</td>\n",
       "      <td>0</td>\n",
       "      <td>0</td>\n",
       "      <td>12.0</td>\n",
       "      <td>1013.0</td>\n",
       "      <td>70.0</td>\n",
       "      <td>1.0</td>\n",
       "      <td>0</td>\n",
       "      <td>0</td>\n",
       "      <td>0</td>\n",
       "      <td>0</td>\n",
       "      <td>15</td>\n",
       "      <td>0</td>\n",
       "      <td>3</td>\n",
       "      <td>23</td>\n",
       "      <td>74</td>\n",
       "      <td>0</td>\n",
       "      <td>0</td>\n",
       "      <td>1</td>\n",
       "    </tr>\n",
       "    <tr>\n",
       "      <th>1</th>\n",
       "      <td>0</td>\n",
       "      <td>385</td>\n",
       "      <td>0</td>\n",
       "      <td>12.0</td>\n",
       "      <td>1007.0</td>\n",
       "      <td>91.0</td>\n",
       "      <td>1.0</td>\n",
       "      <td>0</td>\n",
       "      <td>0</td>\n",
       "      <td>1</td>\n",
       "      <td>0</td>\n",
       "      <td>25</td>\n",
       "      <td>5</td>\n",
       "      <td>12</td>\n",
       "      <td>18</td>\n",
       "      <td>359</td>\n",
       "      <td>3</td>\n",
       "      <td>1</td>\n",
       "      <td>1</td>\n",
       "    </tr>\n",
       "    <tr>\n",
       "      <th>2</th>\n",
       "      <td>0</td>\n",
       "      <td>69</td>\n",
       "      <td>2</td>\n",
       "      <td>14.0</td>\n",
       "      <td>1025.0</td>\n",
       "      <td>64.0</td>\n",
       "      <td>0.0</td>\n",
       "      <td>0</td>\n",
       "      <td>1</td>\n",
       "      <td>0</td>\n",
       "      <td>0</td>\n",
       "      <td>12</td>\n",
       "      <td>4</td>\n",
       "      <td>3</td>\n",
       "      <td>15</td>\n",
       "      <td>71</td>\n",
       "      <td>0</td>\n",
       "      <td>0</td>\n",
       "      <td>1</td>\n",
       "    </tr>\n",
       "    <tr>\n",
       "      <th>3</th>\n",
       "      <td>2</td>\n",
       "      <td>2297</td>\n",
       "      <td>2</td>\n",
       "      <td>15.0</td>\n",
       "      <td>1028.0</td>\n",
       "      <td>75.0</td>\n",
       "      <td>1.0</td>\n",
       "      <td>0</td>\n",
       "      <td>4</td>\n",
       "      <td>10</td>\n",
       "      <td>1</td>\n",
       "      <td>29</td>\n",
       "      <td>2</td>\n",
       "      <td>9</td>\n",
       "      <td>9</td>\n",
       "      <td>272</td>\n",
       "      <td>3</td>\n",
       "      <td>0</td>\n",
       "      <td>1</td>\n",
       "    </tr>\n",
       "    <tr>\n",
       "      <th>4</th>\n",
       "      <td>0</td>\n",
       "      <td>0</td>\n",
       "      <td>2</td>\n",
       "      <td>27.0</td>\n",
       "      <td>1020.0</td>\n",
       "      <td>52.0</td>\n",
       "      <td>1.0</td>\n",
       "      <td>0</td>\n",
       "      <td>3</td>\n",
       "      <td>5</td>\n",
       "      <td>0</td>\n",
       "      <td>13</td>\n",
       "      <td>6</td>\n",
       "      <td>6</td>\n",
       "      <td>11</td>\n",
       "      <td>164</td>\n",
       "      <td>1</td>\n",
       "      <td>0</td>\n",
       "      <td>1</td>\n",
       "    </tr>\n",
       "  </tbody>\n",
       "</table>\n",
       "</div>"
      ],
      "text/plain": [
       "   magnitude_of_delay  delay_in_seconds  luminosity  avg_temperature  \\\n",
       "0                   0                 0           0             12.0   \n",
       "1                   0               385           0             12.0   \n",
       "2                   0                69           2             14.0   \n",
       "3                   2              2297           2             15.0   \n",
       "4                   0                 0           2             27.0   \n",
       "\n",
       "   avg_atm_pressure  avg_humidity  avg_wind_speed  avg_rain  incidents  \\\n",
       "0            1013.0          70.0             1.0         0          0   \n",
       "1            1007.0          91.0             1.0         0          0   \n",
       "2            1025.0          64.0             0.0         0          1   \n",
       "3            1028.0          75.0             1.0         0          4   \n",
       "4            1020.0          52.0             1.0         0          3   \n",
       "\n",
       "   National  Regional  day_of_month  week_day  month  hour  day_of_year  \\\n",
       "0         0         0            15         0      3    23           74   \n",
       "1         1         0            25         5     12    18          359   \n",
       "2         0         0            12         4      3    15           71   \n",
       "3        10         1            29         2      9     9          272   \n",
       "4         5         0            13         6      6    11          164   \n",
       "\n",
       "   season  is_holiday  is_weekend  \n",
       "0       0           0           1  \n",
       "1       3           1           1  \n",
       "2       0           0           1  \n",
       "3       3           0           1  \n",
       "4       1           0           1  "
      ]
     },
     "execution_count": 56,
     "metadata": {},
     "output_type": "execute_result"
    }
   ],
   "source": [
    "incidentes.head()"
   ]
  },
  {
   "attachments": {},
   "cell_type": "markdown",
   "metadata": {},
   "source": [
    "### Conclusão"
   ]
  },
  {
   "attachments": {},
   "cell_type": "markdown",
   "metadata": {},
   "source": [
    "| **Th**    | **Accuracy** | **Features**                                                                                                                                                                                                                                 |\n",
    "|-----------|--------------|----------------------------------------------------------------------------------------------------------------------------------------------------------------------------------------------------------------------------------------------|\n",
    "| **0.010** | **0.9360**   | **['magnitude_of_delay', 'delay_in_seconds', 'luminosity',      'avg_temperature', 'avg_atm_pressure', 'avg_humidity', 'avg_wind_speed',         'National', 'day_of_month', 'week_day', 'month', 'hour', 'day_of_year',         'season']** |\n",
    "| 0.025     | 0.932        | ['magnitude_of_delay', 'delay_in_seconds', 'avg_temperature',         'avg_atm_pressure', 'avg_humidity', 'National', 'day_of_month',         'week_day', 'month', 'hour', 'day_of_year', 'season']                                          |\n",
    "| 0.050     | 0.9304       | ['delay_in_seconds', 'National', 'day_of_month', 'month', 'day_of_year']                                                                                                                                                                     |"
   ]
  },
  {
   "cell_type": "code",
   "execution_count": 57,
   "metadata": {},
   "outputs": [
    {
     "data": {
      "text/plain": [
       "Index(['magnitude_of_delay', 'delay_in_seconds', 'luminosity',\n",
       "       'avg_temperature', 'avg_atm_pressure', 'avg_humidity', 'avg_wind_speed',\n",
       "       'avg_rain', 'incidents', 'National', 'Regional', 'day_of_month',\n",
       "       'week_day', 'month', 'hour', 'day_of_year', 'season', 'is_holiday',\n",
       "       'is_weekend'],\n",
       "      dtype='object')"
      ]
     },
     "execution_count": 57,
     "metadata": {},
     "output_type": "execute_result"
    }
   ],
   "source": [
    "incidentes.columns"
   ]
  },
  {
   "attachments": {},
   "cell_type": "markdown",
   "metadata": {},
   "source": [
    "Reparamos que as features eliminadas com th de 0.010, foram:\n",
    "* 'avg_rain'\n",
    "* 'Regional'\n",
    "* 'is_holiday'\n",
    "* 'is_weekend'\n",
    "\n",
    "O que leva a querer que as features inicialmente adicionadas não contribuem muito para o modelo, mas ainda contribuem, logo vamos manter."
   ]
  },
  {
   "attachments": {},
   "cell_type": "markdown",
   "metadata": {},
   "source": [
    "Vamos, agora, fazer tunning ao modelo, seguir para o notebook 4.1"
   ]
  }
 ],
 "metadata": {
  "kernelspec": {
   "display_name": "dataset_COMPETICAO",
   "language": "python",
   "name": "python3"
  },
  "language_info": {
   "codemirror_mode": {
    "name": "ipython",
    "version": 3
   },
   "file_extension": ".py",
   "mimetype": "text/x-python",
   "name": "python",
   "nbconvert_exporter": "python",
   "pygments_lexer": "ipython3",
   "version": "3.9.15 (main, Nov 24 2022, 14:31:59) \n[GCC 11.2.0]"
  },
  "orig_nbformat": 4,
  "vscode": {
   "interpreter": {
    "hash": "af40022f6b24da7d0ec2d2ff3772b63b87a9d2e288a5206d322010ec73befb1d"
   }
  }
 },
 "nbformat": 4,
 "nbformat_minor": 2
}
